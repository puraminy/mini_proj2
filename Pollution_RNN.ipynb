{
  "nbformat": 4,
  "nbformat_minor": 0,
  "metadata": {
    "colab": {
      "name": "Pollution_RNN.ipynb",
      "version": "0.3.2",
      "provenance": [],
      "collapsed_sections": [],
      "toc_visible": true,
      "include_colab_link": true
    },
    "kernelspec": {
      "name": "python3",
      "display_name": "Python 3"
    },
    "accelerator": "GPU"
  },
  "cells": [
    {
      "cell_type": "markdown",
      "metadata": {
        "id": "view-in-github",
        "colab_type": "text"
      },
      "source": [
        "<a href=\"https://colab.research.google.com/github/puraminy/mini_proj2/blob/master/Pollution_RNN.ipynb\" target=\"_parent\"><img src=\"https://colab.research.google.com/assets/colab-badge.svg\" alt=\"Open In Colab\"/></a>"
      ]
    },
    {
      "metadata": {
        "id": "2W_bevOEYdEv",
        "colab_type": "text"
      },
      "cell_type": "markdown",
      "source": [
        "# Load DATA\n"
      ]
    },
    {
      "metadata": {
        "id": "OrhkJ3uO5lD4",
        "colab_type": "text"
      },
      "cell_type": "markdown",
      "source": [
        "#### Data Main Source\n",
        "#####https://archive.ics.uci.edu/ml/datasets/Beijing+PM2.5+Data"
      ]
    },
    {
      "metadata": {
        "id": "_RE5WNDFmq-T",
        "colab_type": "code",
        "outputId": "23161ca5-b560-4ca8-e163-c3aaa9ff2088",
        "colab": {
          "base_uri": "https://localhost:8080/",
          "height": 119
        }
      },
      "cell_type": "code",
      "source": [
        "!git clone \"https://github.com/puraminy/mini_proj2\""
      ],
      "execution_count": 2,
      "outputs": [
        {
          "output_type": "stream",
          "text": [
            "Cloning into 'mini_proj2'...\n",
            "remote: Enumerating objects: 29, done.\u001b[K\n",
            "remote: Counting objects: 100% (29/29), done.\u001b[K\n",
            "remote: Compressing objects: 100% (24/24), done.\u001b[K\n",
            "remote: Total 29 (delta 7), reused 9 (delta 1), pack-reused 0\u001b[K\n",
            "Unpacking objects: 100% (29/29), done.\n"
          ],
          "name": "stdout"
        }
      ]
    },
    {
      "metadata": {
        "id": "uyxKkShP1XJg",
        "colab_type": "code",
        "outputId": "089c8ff4-cab9-4523-f435-4ba0e689740a",
        "colab": {
          "base_uri": "https://localhost:8080/",
          "height": 153
        }
      },
      "cell_type": "code",
      "source": [
        "import numpy as np\n",
        "import pandas as pd\n",
        "\n",
        "dataset_url = \"https://archive.ics.uci.edu/ml/machine-learning-databases/00381/PRSA_data_2010.1.1-2014.12.31.csv\"\n",
        "\n",
        "#github = \"https://raw.githubusercontent.com/puraminy/mini_proj2/master/polution.csv\"\n",
        "\n",
        "github = \"mini_proj2/polution.csv\"\n",
        "\n",
        "c=pd.read_csv(github)\n",
        "data=np.asarray(c)\n",
        "print(data)\n",
        "np.shape(data)"
      ],
      "execution_count": 3,
      "outputs": [
        {
          "output_type": "stream",
          "text": [
            "[[0.12977867 0.35294122 0.24590163 ... 0.00229001 0.         0.        ]\n",
            " [0.14889336 0.36764708 0.24590163 ... 0.00381099 0.         0.        ]\n",
            " [0.15995975 0.42647061 0.22950819 ... 0.00533197 0.         0.        ]\n",
            " ...\n",
            " [0.01006036 0.2647059  0.26229507 ... 0.40558836 0.         0.        ]\n",
            " [0.01006036 0.2647059  0.26229507 ... 0.41399646 0.         0.        ]\n",
            " [0.00804829 0.2647059  0.24590163 ... 0.42086649 0.         0.        ]]\n"
          ],
          "name": "stdout"
        },
        {
          "output_type": "execute_result",
          "data": {
            "text/plain": [
              "(43799, 8)"
            ]
          },
          "metadata": {
            "tags": []
          },
          "execution_count": 3
        }
      ]
    },
    {
      "metadata": {
        "id": "kUWTG2AjYoJu",
        "colab_type": "text"
      },
      "cell_type": "markdown",
      "source": [
        ""
      ]
    },
    {
      "metadata": {
        "id": "a4ZQnQPLYpOl",
        "colab_type": "code",
        "outputId": "cd64f37b-704d-4c6d-c4b4-efc538d5aaa4",
        "colab": {
          "base_uri": "https://localhost:8080/",
          "height": 349
        }
      },
      "cell_type": "code",
      "source": [
        "from matplotlib import pyplot\n",
        "values = c.values\n",
        "# specify columns to plot\n",
        "groups = [0, 1, 2, 3, 5, 6, 7]\n",
        "i = 1\n",
        "# plot each column\n",
        "pyplot.figure()\n",
        "for group in groups:\n",
        "\tpyplot.subplot(len(groups), 1, i)\n",
        "\tpyplot.plot(values[:, group])\n",
        "\tpyplot.title(c.columns[group], y=0.5, loc='right')\n",
        "\ti += 1\n",
        "pyplot.show()"
      ],
      "execution_count": 4,
      "outputs": [
        {
          "output_type": "display_data",
          "data": {
            "image/png": "[encoded data removed]",
            "text/plain": [
              "<matplotlib.figure.Figure at 0x7f95bf720588>"
            ]
          },
          "metadata": {
            "tags": []
          }
        }
      ]
    },
    {
      "metadata": {
        "id": "tZmb0Vi6v3Y2",
        "colab_type": "text"
      },
      "cell_type": "markdown",
      "source": [
        "# Preparing Time Series"
      ]
    },
    {
      "metadata": {
        "id": "xKQRfONIv-Xp",
        "colab_type": "code",
        "colab": {}
      },
      "cell_type": "code",
      "source": [
        "from math import sqrt\n",
        "from numpy import concatenate\n",
        "from matplotlib import pyplot as plt\n",
        "from pandas import read_csv\n",
        "from pandas import DataFrame\n",
        "from pandas import concat\n",
        "from sklearn.preprocessing import MinMaxScaler\n",
        "from sklearn.preprocessing import LabelEncoder\n",
        "from sklearn.metrics import mean_squared_error\n",
        "\n",
        "# convert series to supervised learning\n",
        "def series_to_supervised(data, n_in=1, n_out=1, dropnan=True):\n",
        "\tn_vars = 1 if type(data) is list else data.shape[1]\n",
        "\tdf = DataFrame(data)\n",
        "\tcols, names = list(), list()\n",
        "\t# input sequence (t-n, ... t-1)\n",
        "\tfor i in range(n_in, 0, -1):\n",
        "\t\tcols.append(df.shift(i))\n",
        "\t\tnames += [('var%d(t-%d)' % (j+1, i)) for j in range(n_vars)]\n",
        "\t# forecast sequence (t, t+1, ... t+n)\n",
        "\tfor i in range(0, n_out):\n",
        "\t\tcols.append(df.shift(-i))\n",
        "\t\tif i == 0:\n",
        "\t\t\tnames += [('var%d(t)' % (j+1)) for j in range(n_vars)]\n",
        "\t\telse:\n",
        "\t\t\tnames += [('var%d(t+%d)' % (j+1, i)) for j in range(n_vars)]\n",
        "\t# put it all together\n",
        "\tagg = concat(cols, axis=1)\n",
        "\tagg.columns = names\n",
        "\t# drop rows with NaN values\n",
        "\tif dropnan:\n",
        "\t\tagg.dropna(inplace=True)\n",
        "\treturn agg\n",
        "\n",
        "# load dataset\n",
        "def create_data(n_hours = 24, n_train = 10000):\n",
        "  dataset = read_csv('mini_proj2/polution.csv', header=0)\n",
        "  values = dataset.values\n",
        "  \n",
        "  print(np.shape(values))\n",
        "  # integer encode direction\n",
        "  encoder = LabelEncoder()\n",
        "  values[:,4] = encoder.fit_transform(values[:,4])\n",
        "  # ensure all data is float\n",
        "  values = values.astype('float32')\n",
        "  # normalize features\n",
        "  # scaler = MinMaxScaler(feature_range=(0, 1))\n",
        "  scaled = values # scaler.fit_transform(values)\n",
        "  # specify the number of lag hours\n",
        "  # n_hours = 24\n",
        "  n_features = 8 \n",
        "  # frame as supervised learning\n",
        "  reframed = series_to_supervised(scaled, n_hours, 1)\n",
        "\n",
        " # print(reframed[:2])\n",
        " # print(reframed.shape)\n",
        "\n",
        "  # split into train and test sets\n",
        "  values = reframed.values\n",
        "   #365 * 24\n",
        "  train = values[:n_train, :]\n",
        "  test = values[n_train:, :]\n",
        "  # split into input and outputs\n",
        "  n_obs = n_hours * n_features\n",
        "  train_X, train_y = train[:, :n_obs], train[:, -n_features]\n",
        "\n",
        "  test_X, test_y = test[:, :n_obs], test[:, -n_features]\n",
        "  print(train_X.shape, len(train_X), train_y.shape)\n",
        "  # reshape input to be 3D [samples, timesteps, features]\n",
        "    \n",
        "  train_X = train_X.reshape((train_X.shape[0], n_hours, n_features))\n",
        "  test_X = test_X.reshape((test_X.shape[0], n_hours, n_features))\n",
        "  print(train_X.shape, train_y.shape, test_X.shape, test_y.shape)\n",
        "  \n",
        "  return train_X,train_y, test_X, test_y\n",
        "\n"
      ],
      "execution_count": 0,
      "outputs": []
    },
    {
      "metadata": {
        "id": "B99o1xwiwadG",
        "colab_type": "text"
      },
      "cell_type": "markdown",
      "source": [
        "# Split Train & Test Data"
      ]
    },
    {
      "metadata": {
        "id": "PVs3NEqA_SOa",
        "colab_type": "code",
        "colab": {}
      },
      "cell_type": "code",
      "source": [
        "def create_data2(n_hours = 24, n_train = 10000, step =1):\n",
        "  c=pd.read_csv(github)\n",
        "  data=np.asarray(c)\n",
        "\n",
        "  print(np.shape(data))\n",
        "  \n",
        "  print(data.shape[0])\n",
        "  n_test = data.shape[0]-n_train\n",
        "  train = data[:n_train, :]\n",
        "  test = data[n_train:, :]\n",
        "\n",
        "\n",
        "  train_X = np.zeros([n_train-n_hours, n_hours, 8])\n",
        "  train_y = np.zeros([n_train-n_hours, 1])\n",
        "  for i in range (n_train-n_hours):\n",
        "      train_X[i,:,:] = train[i:i+n_hours,:]\n",
        "      train_y[i] = train[i+n_hours,0]\n",
        "\n",
        "  test_X = np.zeros([n_test-n_hours, n_hours, 8])\n",
        "  test_y = np.zeros([n_test-n_hours, 1])\n",
        "  for i in range (n_test-n_hours):\n",
        "      test_X[i,:,:] = test[i:i+n_hours,:]\n",
        "      test_y[i] = test[i+n_hours,0]\n",
        "\n",
        "  print(train_X.shape, train_y.shape, test_X.shape, test_y.shape)\n",
        "  \n",
        "  return train_X,train_y, test_X, test_y\n",
        "\n"
      ],
      "execution_count": 0,
      "outputs": []
    },
    {
      "metadata": {
        "id": "tLRasYy_RTgT",
        "colab_type": "text"
      },
      "cell_type": "markdown",
      "source": [
        "# Model"
      ]
    },
    {
      "metadata": {
        "id": "eZ_fxxL6xmSP",
        "colab_type": "code",
        "outputId": "1a451604-90f2-4085-c700-f62f8807cbd5",
        "colab": {
          "base_uri": "https://localhost:8080/",
          "height": 3815
        }
      },
      "cell_type": "code",
      "source": [
        "from keras.layers import Flatten\n",
        "from keras.models import Sequential\n",
        "from keras.layers import Dense\n",
        "from keras.layers import LSTM, GRU, SimpleRNN\n",
        "\n",
        "import tensorflow as tf\n",
        "\n",
        "def create_model(cell_type = \"normal\", optimizer = 'adam'):\n",
        "  if cell_type == \"lstm\":\n",
        "    model = Sequential()\n",
        "    model.add(LSTM(50, input_shape=(train_X.shape[1], train_X.shape[2])))\n",
        "    model.add(Dense(1, activation='linear'))\n",
        "  elif cell_type == \"gru\":\n",
        "    model = Sequential()\n",
        "    model.add(GRU(50, input_shape=(train_X.shape[1], train_X.shape[2])))\n",
        "    model.add(Dense(1, activation='linear'))\n",
        "  elif cell_type == \"rnn\":\n",
        "    model = Sequential()\n",
        "    model.add(SimpleRNN(50, input_shape=(train_X.shape[1], train_X.shape[2])))\n",
        "    model.add(Dense(1, activation='linear'))\n",
        "  else:\n",
        "    model = Sequential()\n",
        "    model.add(Flatten())\n",
        "    model.add(Dense(10))\n",
        "#     model.add(Dense(20)) \n",
        "    model.add(Dense(10)) \n",
        "    model.add(Dense(1, activation='linear'))\n",
        "  \n",
        "  model.name = 'model_' + cell_type + '_' + optimizer\n",
        "  if optimizer == 'rmsprop':\n",
        "    optimizer = tf.train.RMSPropOptimizer(0.001)\n",
        "    \n",
        "#   model.compile(loss='mae', optimizer=optimizer)\n",
        "  \n",
        "  model.compile(loss='mae',\n",
        "              optimizer=optimizer,\n",
        "              metrics=['mae'])\n",
        "\n",
        "  return model\n",
        "\n",
        "n_train = 10000\n",
        "n_hours = 24\n",
        "data_method = 1\n",
        "silent = True\n",
        "fname ='report3.csv'\n",
        "file = open(fname,'w+')\n",
        "file.write('n_train, n_hours, model, epochs, optimizer, loss\\n')\n",
        "file.close()\n",
        "while n_hours <= 168:\n",
        "  file = open(fname,'a+')\n",
        "  # create data\n",
        "  # create_data(0)\n",
        "  # train_X1,train_y1, test_X1, test_y1 = create_data2(n_train)\n",
        "\n",
        "  # print(train_X1[:1])\n",
        "  # print(\"# ################ 24 hours #\")\n",
        "  if data_method ==2:\n",
        "    train_X,train_y, test_X, test_y = create_data2(n_hours, n_train=n_train)\n",
        "  else:\n",
        "    train_X,train_y, test_X, test_y = create_data(n_hours, n_train=n_train)\n",
        "\n",
        "  # print(train_X[:1])\n",
        "\n",
        "\n",
        "  # create and run models\n",
        "  optimizers  = ['adam','adam','rmsprop', 'adam','rmsprop', 'adam','rmsprop']\n",
        "  \n",
        "  model_normal = create_model(optimizer=optimizers[0])\n",
        "  model_lstm_adam = create_model(\"lstm\", optimizer=optimizers[1])\n",
        "  model_lstm_rmsprop = create_model(\"lstm\", optimizer=optimizers[2])\n",
        "  model_gru_adam = create_model(\"gru\", optimizer=optimizers[3])\n",
        "  model_gru_rmsprop = create_model(\"gru\", optimizer=optimizers[4])\n",
        "  model_rnn_adam = create_model(\"rnn\", optimizer=optimizers[5])\n",
        "  model_rnn_rmsprop = create_model(\"rnn\", optimizer=optimizers[6])\n",
        "  \n",
        " \n",
        "  models = [model_normal, \n",
        "            model_lstm_adam, \n",
        "            model_lstm_rmsprop,\n",
        "            model_gru_adam,\n",
        "            model_gru_rmsprop,\n",
        "            model_rnn_adam]\n",
        "  \n",
        "\n",
        "  Run = [1, 0, 0, 0, 0, 0] # Specify which model you want to run\n",
        "  EPOCHS =[8, 10, 8, 8, 8, 8]\n",
        "  model_index = 0\n",
        "  \n",
        "  legends = []\n",
        "\n",
        "  for model in models:\n",
        "\n",
        "    # fit network\n",
        "    model_name = model.name\n",
        "    \n",
        "    legends.append(model_name)\n",
        "    print(f\"##################### Model {model_name} Hours {n_hours} ##################\")\n",
        "    print(\"\\n\")\n",
        "\n",
        "    if not Run[model_index]:\n",
        "      print(\"Skipped\")\n",
        "      model_index+=1\n",
        "      continue\n",
        "      \n",
        "    line = f\"{n_train}, {n_hours}, {model_name}, {EPOCHS[model_index]},{optimizers[model_index]},\"\n",
        "    print(line)\n",
        "    file.write(line)\n",
        "\n",
        "    history = model.fit(train_X, train_y, \n",
        "                        epochs=EPOCHS[model_index], batch_size=72, \n",
        "  #                       validation_data=(test_X, test_y), \n",
        "                        validation_split=0.1,\n",
        "                        verbose=0, shuffle=True)\n",
        "    # plot history\n",
        "    if not silent: \n",
        "      plt.figure(0)\n",
        "      plt.plot(history.history['loss'], label='train')\n",
        "      plt.xlabel(\"Num of Epochs\")\n",
        "      plt.ylabel(\"Loss\")\n",
        "      plt.title(\"Training\")\n",
        "      plt.legend(legends)\n",
        "\n",
        "      plt.figure(1)\n",
        "      plt.plot(history.history['val_loss'], label='test')\n",
        "      plt.xlabel(\"Num of Epochs\")\n",
        "      plt.ylabel(\"Loss\")\n",
        "      plt.title(\"Test\")\n",
        "      plt.legend(legends)\n",
        "\n",
        "    # make a prediction\n",
        "  #   yhat = model.predict(test_X)\n",
        "  # #   test_X_reshaped = test_X.reshape((test_X.shape[0], n_hours*n_features))\n",
        "\n",
        "  #   #My code\n",
        "  #   test_X_reshaped = test_X.reshape((test_X.shape[0], n_hours+1*n_features-1))\n",
        "\n",
        "  #   # invert scaling for forecast\n",
        "  #   inv_yhat = concatenate((yhat, test_X_resahped[:, -7:]), axis=1)\n",
        "  #   # inv_yhat = scaler.inverse_transform(inv_yhat)\n",
        "  #   inv_yhat = inv_yhat[:,0]\n",
        "  #   # invert scaling for actual\n",
        "  #   test_y_reshaped = test_y.reshape((len(test_y), 1))\n",
        "  #   inv_y = concatenate((test_y_reshaped, test_X_reshaped[:, -7:]), axis=1)\n",
        "  #   # inv_y = scaler.inverse_transform(inv_y)\n",
        "  #   inv_y = inv_y[:,0]\n",
        "  #   # calculate RMSE\n",
        "  #   rmse = sqrt(mean_squared_error(inv_y, inv_yhat))\n",
        "  #   print('Test RMSE: %.3f' % rmse)\n",
        "    test_predictions = model.predict(test_X).flatten()\n",
        "    test_loss = model.evaluate(test_X, test_y)\n",
        "    print(f\"test loss {test_loss}\")\n",
        "    file.write(f\"{test_loss[0]}\\n\")\n",
        "    \n",
        "    if not silent:\n",
        "      plt.figure(num=model_index+2, figsize=(20, 3), dpi=80, facecolor='w', edgecolor='k')\n",
        "      plt.title(f\"Prediction of {model_name}\")\n",
        "      plt.xlabel('Time')\n",
        "      plt.ylabel('normalized value')\n",
        "      plt.legend(('Original', 'Predicted'), loc='upper right')\n",
        "      plt.plot(data[:,0], 'bo')\n",
        "      plt.plot(np.concatenate([data[:n_train,0],test_predictions]), 'go', alpha=0.4)\n",
        "      plt.legend(('Original', 'Predicted'), loc='upper right')\n",
        "\n",
        "    model_index +=1\n",
        "\n",
        "  if not silent:\n",
        "    plt.show()\n",
        "  \n",
        "  n_hours += 24\n",
        "  file.close()\n",
        "\n",
        "df = read_csv(fname)\n",
        "values = df.values\n",
        "# print(df)\n",
        "plt.plot(values[:,1],values[:,5])"
      ],
      "execution_count": 15,
      "outputs": [
        {
          "output_type": "stream",
          "text": [
            "(43799, 8)\n",
            "(10000, 192) 10000 (10000,)\n",
            "(10000, 24, 8) (10000,) (33775, 24, 8) (33775,)\n",
            "##################### Model model_normal_adam Hours 24 ##################\n",
            "\n",
            "\n",
            "10000, 24, model_normal_adam, 8,adam,\n",
            "33775/33775 [==============================] - 2s 66us/step\n",
            "test loss [0.01887236168173774, 0.01887236168173774]\n",
            "##################### Model model_lstm_adam Hours 24 ##################\n",
            "\n",
            "\n",
            "Skipped\n",
            "##################### Model model_lstm_rmsprop Hours 24 ##################\n",
            "\n",
            "\n",
            "Skipped\n",
            "##################### Model model_gru_adam Hours 24 ##################\n",
            "\n",
            "\n",
            "Skipped\n",
            "##################### Model model_gru_rmsprop Hours 24 ##################\n",
            "\n",
            "\n",
            "Skipped\n",
            "##################### Model model_rnn_adam Hours 24 ##################\n",
            "\n",
            "\n",
            "Skipped\n",
            "(43799, 8)\n",
            "(10000, 384) 10000 (10000,)\n",
            "(10000, 48, 8) (10000,) (33751, 48, 8) (33751,)\n",
            "##################### Model model_normal_adam Hours 48 ##################\n",
            "\n",
            "\n",
            "10000, 48, model_normal_adam, 8,adam,\n",
            "33751/33751 [==============================] - 2s 69us/step\n",
            "test loss [0.029957944932402423, 0.029957944932402423]\n",
            "##################### Model model_lstm_adam Hours 48 ##################\n",
            "\n",
            "\n",
            "Skipped\n",
            "##################### Model model_lstm_rmsprop Hours 48 ##################\n",
            "\n",
            "\n",
            "Skipped\n",
            "##################### Model model_gru_adam Hours 48 ##################\n",
            "\n",
            "\n",
            "Skipped\n",
            "##################### Model model_gru_rmsprop Hours 48 ##################\n",
            "\n",
            "\n",
            "Skipped\n",
            "##################### Model model_rnn_adam Hours 48 ##################\n",
            "\n",
            "\n",
            "Skipped\n",
            "(43799, 8)\n",
            "(10000, 576) 10000 (10000,)\n",
            "(10000, 72, 8) (10000,) (33727, 72, 8) (33727,)\n",
            "##################### Model model_normal_adam Hours 72 ##################\n",
            "\n",
            "\n",
            "10000, 72, model_normal_adam, 8,adam,\n",
            "33727/33727 [==============================] - 2s 72us/step\n",
            "test loss [0.02323453385389739, 0.02323453385389739]\n",
            "##################### Model model_lstm_adam Hours 72 ##################\n",
            "\n",
            "\n",
            "Skipped\n",
            "##################### Model model_lstm_rmsprop Hours 72 ##################\n",
            "\n",
            "\n",
            "Skipped\n",
            "##################### Model model_gru_adam Hours 72 ##################\n",
            "\n",
            "\n",
            "Skipped\n",
            "##################### Model model_gru_rmsprop Hours 72 ##################\n",
            "\n",
            "\n",
            "Skipped\n",
            "##################### Model model_rnn_adam Hours 72 ##################\n",
            "\n",
            "\n",
            "Skipped\n",
            "(43799, 8)\n",
            "(10000, 768) 10000 (10000,)\n",
            "(10000, 96, 8) (10000,) (33703, 96, 8) (33703,)\n",
            "##################### Model model_normal_adam Hours 96 ##################\n",
            "\n",
            "\n",
            "10000, 96, model_normal_adam, 8,adam,\n",
            "33703/33703 [==============================] - 3s 75us/step\n",
            "test loss [0.022385619001802005, 0.022385619001802005]\n",
            "##################### Model model_lstm_adam Hours 96 ##################\n",
            "\n",
            "\n",
            "Skipped\n",
            "##################### Model model_lstm_rmsprop Hours 96 ##################\n",
            "\n",
            "\n",
            "Skipped\n",
            "##################### Model model_gru_adam Hours 96 ##################\n",
            "\n",
            "\n",
            "Skipped\n",
            "##################### Model model_gru_rmsprop Hours 96 ##################\n",
            "\n",
            "\n",
            "Skipped\n",
            "##################### Model model_rnn_adam Hours 96 ##################\n",
            "\n",
            "\n",
            "Skipped\n",
            "(43799, 8)\n",
            "(10000, 960) 10000 (10000,)\n",
            "(10000, 120, 8) (10000,) (33679, 120, 8) (33679,)\n",
            "##################### Model model_normal_adam Hours 120 ##################\n",
            "\n",
            "\n",
            "10000, 120, model_normal_adam, 8,adam,\n",
            "33679/33679 [==============================] - 3s 77us/step\n",
            "test loss [0.026699043017116023, 0.026699043017116023]\n",
            "##################### Model model_lstm_adam Hours 120 ##################\n",
            "\n",
            "\n",
            "Skipped\n",
            "##################### Model model_lstm_rmsprop Hours 120 ##################\n",
            "\n",
            "\n",
            "Skipped\n",
            "##################### Model model_gru_adam Hours 120 ##################\n",
            "\n",
            "\n",
            "Skipped\n",
            "##################### Model model_gru_rmsprop Hours 120 ##################\n",
            "\n",
            "\n",
            "Skipped\n",
            "##################### Model model_rnn_adam Hours 120 ##################\n",
            "\n",
            "\n",
            "Skipped\n",
            "(43799, 8)\n",
            "(10000, 1152) 10000 (10000,)\n",
            "(10000, 144, 8) (10000,) (33655, 144, 8) (33655,)\n",
            "##################### Model model_normal_adam Hours 144 ##################\n",
            "\n",
            "\n",
            "10000, 144, model_normal_adam, 8,adam,\n",
            "33655/33655 [==============================] - 3s 80us/step\n",
            "test loss [0.023330921722876825, 0.023330921722876825]\n",
            "##################### Model model_lstm_adam Hours 144 ##################\n",
            "\n",
            "\n",
            "Skipped\n",
            "##################### Model model_lstm_rmsprop Hours 144 ##################\n",
            "\n",
            "\n",
            "Skipped\n",
            "##################### Model model_gru_adam Hours 144 ##################\n",
            "\n",
            "\n",
            "Skipped\n",
            "##################### Model model_gru_rmsprop Hours 144 ##################\n",
            "\n",
            "\n",
            "Skipped\n",
            "##################### Model model_rnn_adam Hours 144 ##################\n",
            "\n",
            "\n",
            "Skipped\n",
            "(43799, 8)\n",
            "(10000, 1344) 10000 (10000,)\n",
            "(10000, 168, 8) (10000,) (33631, 168, 8) (33631,)\n",
            "##################### Model model_normal_adam Hours 168 ##################\n",
            "\n",
            "\n",
            "10000, 168, model_normal_adam, 8,adam,\n",
            "33631/33631 [==============================] - 3s 86us/step\n",
            "test loss [0.026674677191966742, 0.026674677191966742]\n",
            "##################### Model model_lstm_adam Hours 168 ##################\n",
            "\n",
            "\n",
            "Skipped\n",
            "##################### Model model_lstm_rmsprop Hours 168 ##################\n",
            "\n",
            "\n",
            "Skipped\n",
            "##################### Model model_gru_adam Hours 168 ##################\n",
            "\n",
            "\n",
            "Skipped\n",
            "##################### Model model_gru_rmsprop Hours 168 ##################\n",
            "\n",
            "\n",
            "Skipped\n",
            "##################### Model model_rnn_adam Hours 168 ##################\n",
            "\n",
            "\n",
            "Skipped\n"
          ],
          "name": "stdout"
        },
        {
          "output_type": "execute_result",
          "data": {
            "text/plain": [
              "[<matplotlib.lines.Line2D at 0x7f9593c56e10>]"
            ]
          },
          "metadata": {
            "tags": []
          },
          "execution_count": 15
        },
        {
          "output_type": "display_data",
          "data": {
            "image/png": "[encoded data removed]",
            "text/plain": [
              "<matplotlib.figure.Figure at 0x7f959bbd5ef0>"
            ]
          },
          "metadata": {
            "tags": []
          }
        }
      ]
    },
    {
      "metadata": {
        "id": "TPwH-yrYBQrD",
        "colab_type": "text"
      },
      "cell_type": "markdown",
      "source": [
        "## Results \n",
        "\n",
        "\n",
        "|hours|Mean Absolute Error |  loss function \n",
        "|--|--|\n",
        "|1  |  0.01328097059825935\n",
        "|10 |   0.016554366017757748 \n",
        "| 24 | 0.02725420025859075 \n",
        "| 50|  0.023748632413918377\n",
        "| 50 |    0.03477914220943476 | MSE\n",
        "| 1 |  0.042994678616862125\n",
        "| 1 |  0.016500973061146625\n",
        "| 48| 0.02513334271283482 \n",
        "|48| 0.01888059062355331\n",
        "|72| 0.020766058881570845\n",
        "\n",
        "\n"
      ]
    },
    {
      "metadata": {
        "id": "cBWrhC9hRS4C",
        "colab_type": "code",
        "colab": {
          "base_uri": "https://localhost:8080/",
          "height": 130
        },
        "outputId": "5d4ccb5c-eb12-4f11-f86e-c3c373ee9c07"
      },
      "cell_type": "code",
      "source": [
        "|# import pandas as pd\n",
        "# from sklearn.preprocessing import MinMaxScaler\n",
        "# import tensorflow as tf\n",
        "\n",
        "\n",
        "# y_train = train_y\n",
        "# x_train = train_X\n",
        "\n",
        "# y_test = test_y\n",
        "# x_test = test_X\n",
        "\n",
        "# EPOCHS = 10\n",
        "\n",
        "# model = tf.keras.Sequential([\n",
        "#     tf.keras.layers.Flatten(),\n",
        "#     tf.keras.layers.Dense(120, activation=tf.nn.relu),\n",
        "#     tf.keras.layers.Dense(18, activation=tf.nn.relu),\n",
        "#     tf.keras.layers.Dense(1, activation='linear')\n",
        "# ])\n",
        "\n",
        "# optimizer = tf.train.RMSPropOptimizer(0.001)\n",
        "\n",
        "# model.compile(loss='mse',\n",
        "#               optimizer=optimizer,\n",
        "#               metrics=['mae'])\n",
        "\n",
        "\n",
        "# # Store training stats\n",
        "# import matplotlib.pyplot as plt\n",
        "\n",
        "\n",
        "# def plot_history(history):\n",
        "#     plt.figure()\n",
        "#     plt.xlabel('Epoch')\n",
        "#     plt.ylabel('Mean Abs Error ')\n",
        "#     plt.plot(history.epoch, np.array(history.history['mean_absolute_error']),\n",
        "#              label='Train Loss')\n",
        "#     plt.plot(history.epoch, np.array(history.history['val_mean_absolute_error']),\n",
        "#              label='Val loss')\n",
        "#     plt.legend()\n",
        "#     #plt.ylim([0, 0.2])\n",
        "\n",
        "\n",
        "# #model.summary()\n",
        "# history = model.fit(x_train, y_train, epochs=EPOCHS,\n",
        "#                 validation_split=0.1, verbose=1)\n",
        "\n",
        "# model.summary()\n",
        "\n",
        "# plot_history(history)\n",
        "# test_predictions = model.predict(x_test).flatten()\n",
        "# test_acc, test_loss = model.evaluate(x_test, y_test)\n",
        "# print(f\"test accuracy: {test_acc}, test loss {test_loss}\")"
      ],
      "execution_count": 8,
      "outputs": [
        {
          "output_type": "error",
          "ename": "SyntaxError",
          "evalue": "ignored",
          "traceback": [
            "\u001b[0;36m  File \u001b[0;32m\"<ipython-input-8-d37156ee0b35>\"\u001b[0;36m, line \u001b[0;32m1\u001b[0m\n\u001b[0;31m    |# import pandas as pd\u001b[0m\n\u001b[0m    ^\u001b[0m\n\u001b[0;31mSyntaxError\u001b[0m\u001b[0;31m:\u001b[0m invalid syntax\n"
          ]
        }
      ]
    },
    {
      "metadata": {
        "id": "IUwrIvafdh4K",
        "colab_type": "text"
      },
      "cell_type": "markdown",
      "source": [
        "#Plot Predicted Values"
      ]
    },
    {
      "metadata": {
        "id": "WKBAT0RFZCDw",
        "colab_type": "code",
        "colab": {}
      },
      "cell_type": "code",
      "source": [
        "\n",
        "# plt.figure(num=None, figsize=(20, 3), dpi=80, facecolor='w', edgecolor='k')\n",
        "# plt.xlabel('Time')\n",
        "# plt.ylabel('normalized value')\n",
        "# plt.legend(('Original', 'Predicted'), loc='upper right')\n",
        "# plt.plot(data[:,0], 'bo')\n",
        "# plt.plot(np.concatenate([data[:n_train,0],test_predictions]), 'go')\n",
        "# plt.legend(('Original', 'Predicted'), loc='upper right')\n"
      ],
      "execution_count": 0,
      "outputs": []
    }
  ]
}