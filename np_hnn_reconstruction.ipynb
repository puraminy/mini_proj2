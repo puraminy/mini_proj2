{
  "nbformat": 4,
  "nbformat_minor": 0,
  "metadata": {
    "colab": {
      "name": "np_hnn_reconstruction.ipynb",
      "version": "0.3.2",
      "provenance": [],
      "collapsed_sections": [],
      "toc_visible": true,
      "include_colab_link": true
    },
    "kernelspec": {
      "display_name": "Python 3",
      "language": "python",
      "name": "python3"
    }
  },
  "cells": [
    {
      "cell_type": "markdown",
      "metadata": {
        "id": "view-in-github",
        "colab_type": "text"
      },
      "source": [
        "<a href=\"https://colab.research.google.com/github/puraminy/mini_proj2/blob/master/np_hnn_reconstruction.ipynb\" target=\"_parent\"><img src=\"https://colab.research.google.com/assets/colab-badge.svg\" alt=\"Open In Colab\"/></a>"
      ]
    },
    {
      "metadata": {
        "id": "XPe6s44hDLAb",
        "colab_type": "text"
      },
      "cell_type": "markdown",
      "source": [
        "# Hopfield Network\n",
        "###### data reconstruction"
      ]
    },
    {
      "metadata": {
        "id": "g3nN75swDLAd",
        "colab_type": "text"
      },
      "cell_type": "markdown",
      "source": [
        "Import dependencies"
      ]
    },
    {
      "metadata": {
        "id": "QPPnIYbsDLAe",
        "colab_type": "code",
        "colab": {}
      },
      "cell_type": "code",
      "source": [
        "import numpy as np\n",
        "import matplotlib.pyplot as plt\n",
        "%matplotlib inline"
      ],
      "execution_count": 0,
      "outputs": []
    },
    {
      "metadata": {
        "id": "TLkJMTAZDLAk",
        "colab_type": "text"
      },
      "cell_type": "markdown",
      "source": [
        "### Util functions"
      ]
    },
    {
      "metadata": {
        "id": "fgWtCdjuDLAl",
        "colab_type": "text"
      },
      "cell_type": "markdown",
      "source": [
        "function to plot the images after during testing phase"
      ]
    },
    {
      "metadata": {
        "id": "jAJbPZiQDLAm",
        "colab_type": "code",
        "colab": {}
      },
      "cell_type": "code",
      "source": [
        "def plot_images(images, title, no_i_x, no_i_y=3):\n",
        "    fig = plt.figure(figsize=(10, 15))\n",
        "    fig.canvas.set_window_title(title)\n",
        "    images = np.array(images).reshape(-1, 5, 5)\n",
        "    images = np.pad(images, ((0, 0), (1, 1), (1, 1)), 'constant', constant_values=-1)\n",
        "    for i in range(no_i_x):\n",
        "        for j in range(no_i_y):\n",
        "            ax = fig.add_subplot(no_i_x, no_i_y, no_i_x * j + (i + 1))\n",
        "            ax.matshow(images[no_i_x * j + i], cmap=\"gray\")\n",
        "            plt.xticks(np.array([]))\n",
        "            plt.yticks(np.array([]))\n",
        "\n",
        "            if j == 0 and i == 0:\n",
        "                ax.set_title(\"Real\")\n",
        "            elif j == 0 and i == 1:\n",
        "                ax.set_title(\"Distorted\")\n",
        "            elif j == 0 and i == 2:\n",
        "                ax.set_title(\"Reconstructed\")"
      ],
      "execution_count": 0,
      "outputs": []
    },
    {
      "metadata": {
        "id": "6wG-NiCwDLAr",
        "colab_type": "text"
      },
      "cell_type": "markdown",
      "source": [
        "####  Dummy Data"
      ]
    },
    {
      "metadata": {
        "id": "YbuT9--qDLAs",
        "colab_type": "code",
        "colab": {}
      },
      "cell_type": "code",
      "source": [
        "perfect_data = {\n",
        "    \"P\": [1, 1, 1, 1, -1, 1, -1, -1, -1, 1, 1, 1, 1, 1, -1, 1, -1, -1, -1, -1, 1, -1, -1, -1, -1],\n",
        "    \"Y\": [1, -1, -1, -1, 1, -1, 1, -1, 1, -1, -1, -1, 1, -1, -1, -1, -1, 1, -1, -1, -1, -1, 1, -1, -1],\n",
        "    \"T\": [1, 1, 1, 1, 1, -1, -1, 1, -1, -1, -1, -1, 1, -1, -1, -1, -1, 1, -1, -1, -1, -1, 1, -1, -1],\n",
        "    \"H\": [1, -1, -1, -1, 1, 1, -1, -1, -1, 1, 1, 1, 1, 1, 1, 1, -1, -1, -1, 1, 1, -1, -1, -1, 1],\n",
        "    \"O\": [1, 1, 1, 1, 1, 1, -1, -1, -1, 1, 1, -1, -1, -1, 1, 1, -1, -1, -1, 1, 1, 1, 1, 1, 1],\n",
        "    \"N\": [1, -1, -1, -1, 1, 1, 1, -1, -1, 1, 1, -1, 1, -1, 1, 1, -1, -1, 1, 1, 1, -1, -1, -1, 1]\n",
        "}"
      ],
      "execution_count": 0,
      "outputs": []
    },
    {
      "metadata": {
        "id": "ZpfS847NDLAw",
        "colab_type": "text"
      },
      "cell_type": "markdown",
      "source": [
        "### Pre-Process Data"
      ]
    },
    {
      "metadata": {
        "id": "F--br3J9DLAx",
        "colab_type": "text"
      },
      "cell_type": "markdown",
      "source": [
        "##### Data Parameters"
      ]
    },
    {
      "metadata": {
        "id": "pcqHnNuuDLAy",
        "colab_type": "text"
      },
      "cell_type": "markdown",
      "source": [
        "Hopfield networks can hold about 0.138 \\* n_neurons for better denoising <br>\n",
        "0.138 \\* n_neurons = 0.138 \\* 25 = 3.45 ~ 3 <br>"
      ]
    },
    {
      "metadata": {
        "id": "MTP6pWznDLAz",
        "colab_type": "code",
        "colab": {}
      },
      "cell_type": "code",
      "source": [
        "n_train = 3"
      ],
      "execution_count": 0,
      "outputs": []
    },
    {
      "metadata": {
        "id": "j6w7_wb-DLA3",
        "colab_type": "code",
        "colab": {}
      },
      "cell_type": "code",
      "source": [
        "n_test = 100"
      ],
      "execution_count": 0,
      "outputs": []
    },
    {
      "metadata": {
        "id": "iUQAYzNbDLA6",
        "colab_type": "code",
        "colab": {}
      },
      "cell_type": "code",
      "source": [
        "# no of images to show in output plot\n",
        "n_train_disp = 10\n",
        "\n",
        "# Amount of distortion (0 < distort < 1)\n",
        "distort = 0.1\n",
        "\n",
        "# Size of image(width)\n",
        "n_side = 5\n",
        "\n",
        "# No of neurons\n",
        "n_neurons = n_side * n_side"
      ],
      "execution_count": 0,
      "outputs": []
    },
    {
      "metadata": {
        "id": "DVRWeeCBDLA_",
        "colab_type": "code",
        "colab": {}
      },
      "cell_type": "code",
      "source": [
        "train_data = [np.array(d) for d in perfect_data.values()][:n_train]"
      ],
      "execution_count": 0,
      "outputs": []
    },
    {
      "metadata": {
        "id": "dDKfDEZODLBC",
        "colab_type": "text"
      },
      "cell_type": "markdown",
      "source": [
        "Generate test data by adding noise to train data"
      ]
    },
    {
      "metadata": {
        "id": "w94sN02MDLBD",
        "colab_type": "code",
        "colab": {}
      },
      "cell_type": "code",
      "source": [
        "test_data = []\n",
        "for d in range(n_test):\n",
        "    r_i = np.random.randint(0, n_train)\n",
        "    base_pattern = np.array(train_data[r_i])\n",
        "    noise = 1 * (np.random.random(base_pattern.shape) > distort)\n",
        "    np.place(noise, noise == 0, -1)\n",
        "    noisy_pattern = np.multiply(base_pattern, noise)\n",
        "    test_data.append((base_pattern, noisy_pattern))"
      ],
      "execution_count": 0,
      "outputs": []
    },
    {
      "metadata": {
        "id": "zLwGNbx0DLBG",
        "colab_type": "text"
      },
      "cell_type": "markdown",
      "source": [
        "### Neural Network"
      ]
    },
    {
      "metadata": {
        "id": "j3KbO8zbDLBH",
        "colab_type": "text"
      },
      "cell_type": "markdown",
      "source": [
        "Function to train the network using Hebbian learning rule"
      ]
    },
    {
      "metadata": {
        "id": "Pe2J5i4gDLBH",
        "colab_type": "code",
        "colab": {}
      },
      "cell_type": "code",
      "source": [
        "def train(neu, training_data):\n",
        "    w = np.zeros([neu, neu])\n",
        "    for data in training_data:\n",
        "        w += np.outer(data, data)\n",
        "    for diag in range(neu):\n",
        "        w[diag][diag] = 0\n",
        "    return w"
      ],
      "execution_count": 0,
      "outputs": []
    },
    {
      "metadata": {
        "id": "HrA5TwkPDLBL",
        "colab_type": "text"
      },
      "cell_type": "markdown",
      "source": [
        "Function to test the network"
      ]
    },
    {
      "metadata": {
        "id": "uoHsxPZjDLBM",
        "colab_type": "code",
        "colab": {}
      },
      "cell_type": "code",
      "source": [
        "def test(weights, testing_data):\n",
        "    success = 0.0\n",
        "\n",
        "    output_data = []\n",
        "\n",
        "    for data in testing_data:\n",
        "        true_data = data[0]\n",
        "        noisy_data = data[1]\n",
        "        predicted_data = retrieve_pattern(weights, noisy_data)\n",
        "        if np.array_equal(true_data, predicted_data):\n",
        "            success += 1.0\n",
        "        output_data.append([true_data, noisy_data, predicted_data])\n",
        "\n",
        "    return (success / len(testing_data)), output_data"
      ],
      "execution_count": 0,
      "outputs": []
    },
    {
      "metadata": {
        "id": "GiSgopBwDLBP",
        "colab_type": "text"
      },
      "cell_type": "markdown",
      "source": [
        "Function to retrieve individual noisy patterns"
      ]
    },
    {
      "metadata": {
        "id": "rH9UOMpuDLBP",
        "colab_type": "code",
        "colab": {}
      },
      "cell_type": "code",
      "source": [
        "def retrieve_pattern(weights, data, steps=10):\n",
        "    res = np.array(data)\n",
        "\n",
        "    for _ in range(steps):\n",
        "        for i in range(len(res)):\n",
        "            raw_v = np.dot(weights[i], res)\n",
        "            if raw_v > 0:\n",
        "                res[i] = 1\n",
        "            else:\n",
        "                res[i] = -1\n",
        "    return res"
      ],
      "execution_count": 0,
      "outputs": []
    },
    {
      "metadata": {
        "id": "orQU2bLxDLBR",
        "colab_type": "text"
      },
      "cell_type": "markdown",
      "source": [
        "#### Train"
      ]
    },
    {
      "metadata": {
        "id": "vujKx6d8DLBU",
        "colab_type": "code",
        "colab": {}
      },
      "cell_type": "code",
      "source": [
        "W = train(n_neurons, train_data)"
      ],
      "execution_count": 0,
      "outputs": []
    },
    {
      "metadata": {
        "id": "CiLmxY6-DLBX",
        "colab_type": "text"
      },
      "cell_type": "markdown",
      "source": [
        "#### Test"
      ]
    },
    {
      "metadata": {
        "id": "94-KXwcMDLBZ",
        "colab_type": "code",
        "colab": {}
      },
      "cell_type": "code",
      "source": [
        "accuracy, op_imgs = test(W, test_data)"
      ],
      "execution_count": 0,
      "outputs": []
    },
    {
      "metadata": {
        "id": "h1YISMM-DLBd",
        "colab_type": "text"
      },
      "cell_type": "markdown",
      "source": [
        "Print accuracy"
      ]
    },
    {
      "metadata": {
        "id": "TV2OwODtDLBe",
        "colab_type": "code",
        "outputId": "80f9f993-2024-47bf-b2b1-289bd84c5422",
        "colab": {
          "base_uri": "https://localhost:8080/",
          "height": 34
        }
      },
      "cell_type": "code",
      "source": [
        "print(\"Accuracy of the network is %f\" % (accuracy * 100))"
      ],
      "execution_count": 0,
      "outputs": [
        {
          "output_type": "stream",
          "text": [
            "Accuracy of the network is 95.000000\n"
          ],
          "name": "stdout"
        }
      ]
    },
    {
      "metadata": {
        "id": "GUEIo-CHDLBm",
        "colab_type": "text"
      },
      "cell_type": "markdown",
      "source": [
        "#### Plot test result"
      ]
    },
    {
      "metadata": {
        "id": "sJTbYCoFDLBm",
        "colab_type": "code",
        "outputId": "95b46f16-bc7d-41a6-dfe5-e3a2378d7670",
        "colab": {
          "base_uri": "https://localhost:8080/",
          "height": 865
        }
      },
      "cell_type": "code",
      "source": [
        "plot_images(op_imgs, \"Reconstructed Data\", n_train_disp)\n",
        "plt.show()"
      ],
      "execution_count": 0,
      "outputs": [
        {
          "output_type": "display_data",
          "data": {
            "image/png": "[encoded data removed]",
            "text/plain": [
              "<matplotlib.figure.Figure at 0x7f6845f4ad30>"
            ]
          },
          "metadata": {
            "tags": []
          }
        }
      ]
    }
  ]
}