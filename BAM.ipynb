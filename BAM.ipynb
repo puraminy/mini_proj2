{
  "nbformat": 4,
  "nbformat_minor": 0,
  "metadata": {
    "colab": {
      "name": "BAM.ipynb",
      "version": "0.3.2",
      "provenance": [],
      "include_colab_link": true
    },
    "kernelspec": {
      "name": "python3",
      "display_name": "Python 3"
    }
  },
  "cells": [
    {
      "cell_type": "markdown",
      "metadata": {
        "id": "view-in-github",
        "colab_type": "text"
      },
      "source": [
        "<a href=\"https://colab.research.google.com/github/puraminy/mini_proj2/blob/master/BAM.ipynb\" target=\"_parent\"><img src=\"https://colab.research.google.com/assets/colab-badge.svg\" alt=\"Open In Colab\"/></a>"
      ]
    },
    {
      "metadata": {
        "id": "r-VMsHiFEgG6",
        "colab_type": "code",
        "outputId": "c67618ca-1406-41ca-8eba-0d3ea5683784",
        "colab": {
          "base_uri": "https://localhost:8080/",
          "height": 202
        }
      },
      "cell_type": "code",
      "source": [
        "class BAM(object):\n",
        "    def __init__(self, data):\n",
        "        self.AB = []\n",
        "        # store associations in bipolar form to the array\n",
        "        for item in data:\n",
        "            self.AB.append(\n",
        "                [self.__l_make_bipolar(item[0]),\n",
        "                 self.__l_make_bipolar(item[1])]\n",
        "                )\n",
        "        self.len_x = len(self.AB[0][1])\n",
        "        self.len_y = len(self.AB[0][0])\n",
        "        # create empty BAM matrix\n",
        "        self.M = [[0 for x in range(self.len_x)] for x in range(self.len_y)]\n",
        "        # compute BAM matrix from associations\n",
        "        self.__create_bam()\n",
        "\n",
        "    def __create_bam(self):\n",
        "        '''Bidirectional associative memory'''\n",
        "        for assoc_pair in self.AB:\n",
        "          X = assoc_pair[0]\n",
        "          Y = assoc_pair[1]\n",
        "         # calculate M\n",
        "          for idx, xi in enumerate(X):\n",
        "            for idy, yi in enumerate(Y):\n",
        "              self.M[idx][idy] += xi * yi\n",
        "\n",
        "    def get_assoc(self, A):\n",
        "        '''Return association for input vector A'''\n",
        "        A = self.__mult_mat_vec(A)\n",
        "        return self.__threshold(A)\n",
        "\n",
        "    def get_bam_matrix(self):\n",
        "        '''Return BAM matrix'''\n",
        "        return self.M\n",
        "\n",
        "    def __mult_mat_vec(self, vec):\n",
        "        '''Multiply imput vector with BAM matrix'''\n",
        "        v_res = [0] * self.len_x\n",
        "        for x in range(self.len_x):\n",
        "            for y in range(self.len_y):\n",
        "                v_res[x] += vec[y] * self.M[y][x]\n",
        "        return v_res\n",
        "\n",
        "    def __threshold(self, vec):\n",
        "        '''Transform vector to [0, 1]'''\n",
        "        ret_vec = []\n",
        "        for i in vec:\n",
        "            if i < 0:\n",
        "                ret_vec.append(0)\n",
        "            else:\n",
        "                ret_vec.append(1)\n",
        "        return ret_vec\n",
        "    \n",
        "    def __l_make_bipolar(self, vec):\n",
        "        '''Transform vector to bipolar form [-1, 1]'''\n",
        "        ret_vec = []\n",
        "        for item in vec:\n",
        "            if item == 0:\n",
        "                ret_vec.append(-1)\n",
        "            else:\n",
        "                ret_vec.append(1)\n",
        "        return ret_vec\n",
        "\n",
        "    \n",
        "    \n",
        "if __name__ == \"__main__\":\n",
        "    data_pairs  = [\n",
        "        [[1, 0, 1, 0, 1, 0], [1, 1, 0, 0]],\n",
        "        [[1, 1, 1, 0, 0, 0], [1, 0, 1, 0]]\n",
        "        ]\n",
        "    b = BAM(data_pairs)\n",
        "\n",
        "    import pprint\n",
        "    pp = pprint.PrettyPrinter(indent=4)\n",
        "    print('Matrix: ')\n",
        "    pp.pprint(b.get_bam_matrix())\n",
        "    print('\\n')\n",
        "    print('[1, 0, 1, 0, 1, 0] ---> ', b.get_assoc([1, 0, 1, 0, 1, 0]))\n",
        "    print('[1, 1, 1, 0, 0, 0] ---> ', b.get_assoc([1, 1, 1, 0, 0, 0]))\n"
      ],
      "execution_count": 1,
      "outputs": [
        {
          "output_type": "stream",
          "text": [
            "Matrix: \n",
            "[   [2, 0, 0, -2],\n",
            "    [0, -2, 2, 0],\n",
            "    [2, 0, 0, -2],\n",
            "    [-2, 0, 0, 2],\n",
            "    [0, 2, -2, 0],\n",
            "    [-2, 0, 0, 2]]\n",
            "\n",
            "\n",
            "[1, 0, 1, 0, 1, 0] --->  [1, 1, 0, 0]\n",
            "[1, 1, 1, 0, 0, 0] --->  [1, 0, 1, 0]\n"
          ],
          "name": "stdout"
        }
      ]
    },
    {
      "metadata": {
        "id": "h3y58n4lOENH",
        "colab_type": "code",
        "colab": {
          "base_uri": "https://localhost:8080/",
          "height": 353
        },
        "outputId": "c6db18f6-b508-4190-f948-9aec1fa50ff6"
      },
      "cell_type": "code",
      "source": [
        "import numpy as np\n",
        "\n",
        "A = [-1, 1, -1, 1, -1, 1, 1, 1, 1, 1, -1, 1, 1, -1, 1]\n",
        "tA = [-1, -1,-1] #tA = np.asmatrix([-1, 1]\n",
        "B = [1, 1, -1, 1, -1, 1, 1, 1, -1, 1, -1, 1, 1, 1, -1]\n",
        "tB = [-1, -1, 1]\n",
        "C = [-1, 1, 1, 1, -1, -1, 1, -1, -1, 1, -1, -1, -1, 1, 1]\n",
        "tC = [-1,1,-1] #tC = np.asmatrix([1, 1])\n",
        "D = [1, 1, -1, 1, -1, 1, 1, -1, 1, 1, -1, 1, 1, 1, -1]\n",
        "tD = [-1,1,1]\n",
        "E = [1, 1, 1, 1, -1, -1, 1, 1, -1, 1, -1, -1, 1, 1, 1]\n",
        "tE = [1,-1,-1]\n",
        "F =[1, 1, 1, 1, -1, -1, 1, 1, -1, 1, -1, -1, 1, -1, -1]\n",
        "tF = [1, -1, 1]\n",
        "G = [-1, 1, 1, 1, -1, -1, 1, -1, 1, 1, -1, 1, -1, 1, 1]\n",
        "tG = [1, 1, -1]\n",
        "H = [1, -1, 1, 1, -1, 1, 1, 1, 1, 1, -1, 1, 1, -1, 1]\n",
        "tH = [1, 1, 1]\n",
        "\n",
        "X =[A,B,C,D,E,F,G,H]\n",
        "Y = [tA,tB,tC,tD,tE,tF,tG,tH]\n",
        "\n",
        "pair = []\n",
        "for i in range (1):\n",
        "  pair.append([X[i], Y[i]])\n",
        "  \n",
        "\n",
        "if __name__ == \"__main__\":\n",
        "    data_pairs  = pair\n",
        "    b1 = BAM(data_pairs)\n",
        "\n",
        "    import pprint\n",
        "    pp = pprint.PrettyPrinter(indent=4)\n",
        "    print('Matrix: ')\n",
        "    pp.pprint(b.get_bam_matrix())\n",
        "    print('\\n')\n",
        "    print('[1, 0, 1, 0, 1, 0] ---> ', b1.get_assoc(C))\n",
        "    print('[1, 1, 1, 0, 0, 0] ---> ', b1.get_assoc(D))\n"
      ],
      "execution_count": 8,
      "outputs": [
        {
          "output_type": "stream",
          "text": [
            "Matrix: \n",
            "[   [1, 1, 1],\n",
            "    [1, 1, 1],\n",
            "    [1, 1, 1],\n",
            "    [1, 1, 1],\n",
            "    [1, 1, 1],\n",
            "    [1, 1, 1],\n",
            "    [1, 1, 1],\n",
            "    [1, 1, 1],\n",
            "    [1, 1, 1],\n",
            "    [1, 1, 1],\n",
            "    [1, 1, 1],\n",
            "    [1, 1, 1],\n",
            "    [1, 1, 1],\n",
            "    [1, 1, 1],\n",
            "    [1, 1, 1]]\n",
            "\n",
            "\n",
            "[1, 0, 1, 0, 1, 0] --->  [0, 0, 0]\n",
            "[1, 1, 1, 0, 0, 0] --->  [1, 1, 1]\n"
          ],
          "name": "stdout"
        }
      ]
    }
  ]
}