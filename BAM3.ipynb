{
  "nbformat": 4,
  "nbformat_minor": 0,
  "metadata": {
    "colab": {
      "name": "BAM.ipynb",
      "version": "0.3.2",
      "provenance": [],
      "include_colab_link": true
    },
    "kernelspec": {
      "name": "python3",
      "display_name": "Python 3"
    }
  },
  "cells": [
    {
      "cell_type": "markdown",
      "metadata": {
        "id": "view-in-github",
        "colab_type": "text"
      },
      "source": [
        "<a href=\"https://colab.research.google.com/github/puraminy/mini_proj2/blob/master/BAM3.ipynb\" target=\"_parent\"><img src=\"https://colab.research.google.com/assets/colab-badge.svg\" alt=\"Open In Colab\"/></a>"
      ]
    },
    {
      "metadata": {
        "id": "r-VMsHiFEgG6",
        "colab_type": "code",
        "colab": {}
      },
      "cell_type": "code",
      "source": [
        "class BAM(object):\n",
        "    def __init__(self, data):\n",
        "        self.AB = data\n",
        "        self.len_x = len(self.AB[0][1])\n",
        "        self.len_y = len(self.AB[0][0])\n",
        "        print(f\"x x y: {self.len_x}, {self.len_y}\")\n",
        "        # create empty BAM matrix\n",
        "        self.M = [[0 for x in range(self.len_x)] for x in range(self.len_y)]\n",
        "        # compute BAM matrix from associations\n",
        "        self.__create_bam()\n",
        "\n",
        "    def __create_bam(self):\n",
        "        '''Bidirectional associative memory'''\n",
        "        for assoc_pair in self.AB:\n",
        "          X = assoc_pair[0]\n",
        "          Y = assoc_pair[1]\n",
        "          self.M += np.outer(X, Y)\n",
        "\n",
        "    def get_assoc(self, A):\n",
        "        '''Return association for input vector A'''\n",
        "        y=np.dot(A.T,self.M)\n",
        "        y[y<0]=-1\n",
        "        y[y>=0]=1\n",
        "        return y\n",
        "\n",
        "  \n",
        "    \n",
        "  \n",
        "\n",
        "    \n",
        "    \n",
        "# if __name__ == \"__main__\":\n",
        "#     data_pairs  = [\n",
        "#         [[1, 0, 1, 0, 1, 0], [1, 1, 0, 0]],\n",
        "#         [[1, 1, 1, 0, 0, 0], [1, 0, 1, 0]]\n",
        "#         ]\n",
        "#     b = BAM(data_pairs)\n",
        "\n",
        "#     import pprint\n",
        "#     pp = pprint.PrettyPrinter(indent=4)\n",
        "#     print('Matrix M1: ')\n",
        "#     pp.pprint(b.get_bam_matrix())\n",
        "#     print('\\n')\n",
        "#     print('[1, 0, 1, 0, 1, 0] ---> ', b.get_assoc([1, 0, 1, 0, 1, 0]))\n",
        "#     print('[1, 1, 1, 0, 0, 0] ---> ', b.get_assoc([1, 1, 1, 0, 0, 0]))\n"
      ],
      "execution_count": 0,
      "outputs": []
    },
    {
      "metadata": {
        "id": "h3y58n4lOENH",
        "colab_type": "code",
        "outputId": "76af6412-b79b-4875-8f76-a39c2fd35058",
        "colab": {
          "base_uri": "https://localhost:8080/",
          "height": 374
        }
      },
      "cell_type": "code",
      "source": [
        "import numpy as np\n",
        "\n",
        "A = [-1, 1, -1, 1, -1, 1, 1, 1, 1, 1, -1, 1, 1, -1, 1]\n",
        "tA = [-1, -1,-1] #tA = np.asmatrix([-1, 1]\n",
        "B = [1, 1, -1, 1, -1, 1, 1, 1, -1, 1, -1, 1, 1, 1, -1]\n",
        "tB = [-1, -1, 1]\n",
        "C = [-1, 1, 1, 1, -1, -1, 1, -1, -1, 1, -1, -1, -1, 1, 1]\n",
        "tC = [-1,1,-1] #tC = np.asmatrix([1, 1])\n",
        "D = [1, 1, -1, 1, -1, 1, 1, -1, 1, 1, -1, 1, 1, 1, -1]\n",
        "tD = [-1,1,1]\n",
        "E = [1, 1, 1, 1, -1, -1, 1, 1, -1, 1, -1, -1, 1, 1, 1]\n",
        "tE = [1,-1,-1]\n",
        "F =[1, 1, 1, 1, -1, -1, 1, 1, -1, 1, -1, -1, 1, -1, -1]\n",
        "tF = [1, -1, 1]\n",
        "G = [-1, 1, 1, 1, -1, -1, 1, -1, 1, 1, -1, 1, -1, 1, 1]\n",
        "tG = [1, 1, -1]\n",
        "H = [1, -1, 1, 1, -1, 1, 1, 1, 1, 1, -1, 1, 1, -1, 1]\n",
        "tH = [1, 1, 1]\n",
        "\n",
        "X =[A,B,C,D,E,F,G,H]\n",
        "Y = [tA,tB,tC,tD,tE,tF,tG,tH]\n",
        "\n",
        "pair = []\n",
        "for i in range (3):\n",
        "  pair.append([X[i], Y[i]])\n",
        "  \n",
        "\n",
        "if __name__ == \"__main__\":\n",
        "    data_pairs  = pair\n",
        "    b = BAM(data_pairs)\n",
        "\n",
        "    import pprint\n",
        "    pp = pprint.PrettyPrinter(indent=4)\n",
        "    print('Matrix: ')\n",
        "    pp.pprint(b.M)\n",
        "    print('\\n')\n",
        "    print(f'{A} ---> ', b.get_assoc(vA), f'/{tA}')\n",
        "    print(f'{B} ---> ', b.get_assoc(vB), f'/{tB}')\n",
        "    \n",
        "# import matplotlib.pyplot as plt\n",
        "\n",
        "# fig, axes = plt.subplots(2, 4)\n",
        "# plt.subplots_adjust(left=None, bottom=None, right=None, top=None, wspace=None, hspace=0.5)\n",
        "\n",
        "# for i in range(4):\n",
        "#   axes[0,i].imshow(np.reshape(X[i],[5,3]))\n",
        "#   xlabel = Y[i]; axes[0,i].set_xlabel(xlabel)\n",
        "#   axes[1,i].imshow(np.reshape(X[i+4],[5,3]))\n",
        "#   xlabel = Y[i+4]; axes[1,i].set_xlabel(xlabel)\n",
        "\n",
        "    \n"
      ],
      "execution_count": 22,
      "outputs": [
        {
          "output_type": "stream",
          "text": [
            "x x y: 3, 15\n",
            "Matrix: \n",
            "array([[ 1, -1,  3],\n",
            "       [-3, -1, -1],\n",
            "       [ 1,  3, -1],\n",
            "       [-3, -1, -1],\n",
            "       [ 3,  1,  1],\n",
            "       [-1, -3,  1],\n",
            "       [-3, -1, -1],\n",
            "       [-1, -3,  1],\n",
            "       [ 1, -1, -1],\n",
            "       [-3, -1, -1],\n",
            "       [ 3,  1,  1],\n",
            "       [-1, -3,  1],\n",
            "       [-1, -3,  1],\n",
            "       [-1,  1,  1],\n",
            "       [-1,  1, -3]])\n",
            "\n",
            "\n",
            "[-1, 1, -1, 1, -1, 1, 1, 1, 1, 1, -1, 1, 1, -1, 1] --->  [-1 -1 -1] /[-1, -1, -1]\n",
            "[1, 1, -1, 1, -1, 1, 1, 1, -1, 1, -1, 1, 1, 1, -1] --->  [-1 -1  1] /[-1, -1, 1]\n"
          ],
          "name": "stdout"
        }
      ]
    }
  ]
}