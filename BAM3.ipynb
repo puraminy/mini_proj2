{
  "nbformat": 4,
  "nbformat_minor": 0,
  "metadata": {
    "colab": {
      "name": "3BAM.ipynb",
      "version": "0.3.2",
      "provenance": [],
      "include_colab_link": true
    },
    "kernelspec": {
      "name": "python3",
      "display_name": "Python 3"
    }
  },
  "cells": [
    {
      "cell_type": "markdown",
      "metadata": {
        "id": "view-in-github",
        "colab_type": "text"
      },
      "source": [
        "<a href=\"https://colab.research.google.com/github/puraminy/mini_proj2/blob/master/BAM3.ipynb\" target=\"_parent\"><img src=\"https://colab.research.google.com/assets/colab-badge.svg\" alt=\"Open In Colab\"/></a>"
      ]
    },
    {
      "metadata": {
        "id": "r-VMsHiFEgG6",
        "colab_type": "code",
        "colab": {}
      },
      "cell_type": "code",
      "source": [
        "class BAM(object):\n",
        "    def __init__(self, data):\n",
        "        self.pairs = data\n",
        "        m1 = len(self.pairs[0][1])\n",
        "        m2 = len(self.pairs[0][0])\n",
        "        # create weight matrix\n",
        "        self.W = np.zeros((m2,m1))\n",
        "        for p in self.pairs:\n",
        "          X = p[0]\n",
        "          Y = p[1]\n",
        "          self.W += np.outer(X, Y)\n",
        "\n",
        "    def get_assoc(self, A):\n",
        "        A = np.asarray(A)\n",
        "        y=np.dot(A.T,self.W)\n",
        "        y[y<0]=-1\n",
        "        y[y>=0]=1\n",
        "        return y\n",
        "\n",
        "  \n"
      ],
      "execution_count": 0,
      "outputs": []
    },
    {
      "metadata": {
        "id": "h3y58n4lOENH",
        "colab_type": "code",
        "outputId": "2c1ab3fc-b955-4b21-fb7e-333c7c855c19",
        "colab": {
          "base_uri": "https://localhost:8080/",
          "height": 463
        }
      },
      "cell_type": "code",
      "source": [
        "import numpy as np\n",
        "\n",
        "A = [-1, 1, -1, 1, -1, 1, 1, 1, 1, 1, -1, 1, 1, -1, 1]\n",
        "tA = [-1, -1,-1] \n",
        "B = [1, 1, -1, 1, -1, 1, 1, 1, -1, 1, -1, 1, 1, 1, -1]\n",
        "tB = [-1, -1, 1]\n",
        "C = [-1, 1, 1, 1, -1, -1, 1, -1, -1, 1, -1, -1, -1, 1, 1]\n",
        "tC = [-1,1,-1] \n",
        "D = [1, 1, -1, 1, -1, 1, 1, -1, 1, 1, -1, 1, 1, 1, -1]\n",
        "tD = [-1,1,1]\n",
        "E = [1, 1, 1, 1, -1, -1, 1, 1, -1, 1, -1, -1, 1, 1, 1]\n",
        "tE = [1,-1,-1]\n",
        "F =[1, 1, 1, 1, -1, -1, 1, 1, -1, 1, -1, -1, 1, -1, -1]\n",
        "tF = [1, -1, 1]\n",
        "G = [-1, 1, 1, 1, -1, -1, 1, -1, 1, 1, -1, 1, -1, 1, 1]\n",
        "tG = [1, 1, -1]\n",
        "H = [1, -1, 1, 1, -1, 1, 1, 1, 1, 1, -1, 1, 1, -1, 1]\n",
        "tH = [1, 1, 1]\n",
        "\n",
        "X =[A,B,C,D,E,F,G,H]\n",
        "Y = [tA,tB,tC,tD,tE,tF,tG,tH]\n",
        "\n",
        "\n",
        "p_num = len(X)\n",
        "pairs = []\n",
        "for i in range (p_num):\n",
        "  pairs.append([X[i], Y[i]])\n",
        "  \n",
        "\n",
        "bam = BAM(pairs)\n",
        "print('\\n')\n",
        "print(f'{A} ---> ', bam.get_assoc(A), f'/{tA}')\n",
        "print(f'{B} ---> ', bam.get_assoc(B), f'/{tB}')\n",
        "    \n",
        "import matplotlib.pyplot as plt\n",
        "\n",
        "def draw_img(ax, X):\n",
        "  ax.imshow(np.reshape(X,[5,3]))\n",
        "\n",
        "fig, axes = plt.subplots(2, 4)\n",
        "plt.subplots_adjust(left=None, bottom=None, right=None, top=None, wspace=None, hspace=0.5)\n",
        "\n",
        "for i in range(4):\n",
        "  draw_img(axes[0,i], X[i])\n",
        "  xlabel = Y[i]; axes[0,i].set_xlabel(xlabel)\n",
        "  draw_img(axes[1,i], X[i+4]) \n",
        "  xlabel = Y[i+4]; axes[1,i].set_xlabel(xlabel)\n",
        "\n",
        "  \n",
        "import random\n",
        "def test_noise (inp, te_n, n_n): #inp:input vector te_n: number of noisy samples for test. n_n: number of noisy elements\n",
        "  test = []\n",
        "  for i in range(te_n):\n",
        "    rnd = random.sample(range(len(inp)), n_n)\n",
        "    noise = np.asarray(inp)\n",
        "    for i in rnd:\n",
        "      noise[i] = 0\n",
        "    test.append(noise)\n",
        "    \n",
        "  test=np.asarray(test)\n",
        "  test = np.unique(test,axis=0)\n",
        " \n",
        "  return test\n",
        "\n",
        "print(A)\n",
        "test_data=test_noise(A, 1000, 2)\n",
        "success = 0\n",
        "for i,noisy_data in enumerate(test_data):\n",
        "  predicted = bam.get_assoc(noisy_data)\n",
        "  if np.array_equal(tA, predicted):\n",
        "    success +=1\n",
        "\n",
        "print(f\"Accuracy = {success}\")\n",
        "\n",
        "\n",
        "    \n"
      ],
      "execution_count": 5,
      "outputs": [
        {
          "output_type": "stream",
          "text": [
            "\n",
            "\n",
            "[-1, 1, -1, 1, -1, 1, 1, 1, 1, 1, -1, 1, 1, -1, 1] --->  [-1. -1.  1.] /[-1, -1, -1]\n",
            "[1, 1, -1, 1, -1, 1, 1, 1, -1, 1, -1, 1, 1, 1, -1] --->  [-1. -1.  1.] /[-1, -1, 1]\n",
            "[-1, 1, -1, 1, -1, 1, 1, 1, 1, 1, -1, 1, 1, -1, 1]\n",
            "Accuracy = 20\n"
          ],
          "name": "stdout"
        },
        {
          "output_type": "display_data",
          "data": {
            "image/png": "[encoded data removed]",
            "text/plain": [
              "<matplotlib.figure.Figure at 0x7f17b61a7c88>"
            ]
          },
          "metadata": {
            "tags": []
          }
        }
      ]
    }
  ]
}