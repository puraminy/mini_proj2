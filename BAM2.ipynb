{
  "nbformat": 4,
  "nbformat_minor": 0,
  "metadata": {
    "colab": {
      "name": "BAM2.ipynb",
      "version": "0.3.2",
      "provenance": [],
      "include_colab_link": true
    },
    "kernelspec": {
      "name": "python3",
      "display_name": "Python 3"
    }
  },
  "cells": [
    {
      "cell_type": "markdown",
      "metadata": {
        "id": "view-in-github",
        "colab_type": "text"
      },
      "source": [
        "<a href=\"https://colab.research.google.com/github/puraminy/mini_proj2/blob/master/BAM2.ipynb\" target=\"_parent\"><img src=\"https://colab.research.google.com/assets/colab-badge.svg\" alt=\"Open In Colab\"/></a>"
      ]
    },
    {
      "metadata": {
        "id": "XzXKYUoknJbO",
        "colab_type": "code",
        "outputId": "4515bb72-f2dd-433b-d428-72a5966f6212",
        "colab": {
          "base_uri": "https://localhost:8080/",
          "height": 34
        }
      },
      "cell_type": "code",
      "source": [
        "import numpy as np\n",
        "\n",
        "A = [-1, 1, -1, 1, -1, 1, 1, 1, 1, 1, -1, 1, 1, -1, 1]\n",
        "tA = [-1, -1,-1] #tA = np.asmatrix([-1, 1]\n",
        "B = [1, 1, -1, 1, -1, 1, 1, 1, -1, 1, -1, 1, 1, 1, -1]\n",
        "tB = [-1, -1, 1]\n",
        "C = [-1, 1, 1, 1, -1, -1, 1, -1, -1, 1, -1, -1, -1, 1, 1]\n",
        "tC = [-1,1,-1] #tC = np.asmatrix([1, 1])\n",
        "D = [1, 1, -1, 1, -1, 1, 1, -1, 1, 1, -1, 1, 1, 1, -1]\n",
        "tD = [-1,1,1]\n",
        "E = [1, 1, 1, 1, -1, -1, 1, 1, -1, 1, -1, -1, 1, 1, 1]\n",
        "tE = [1,-1,-1]\n",
        "F =[1, 1, 1, 1, -1, -1, 1, 1, -1, 1, -1, -1, 1, -1, -1]\n",
        "tF = [1, -1, 1]\n",
        "G = [-1, 1, 1, 1, -1, -1, 1, -1, 1, 1, -1, 1, -1, 1, 1]\n",
        "tG = [1, 1, -1]\n",
        "H = [1, -1, 1, 1, -1, 1, 1, 1, 1, 1, -1, 1, 1, -1, 1]\n",
        "tH = [1, 1, 1]\n",
        "\n",
        "X =[A,B,C,D,E,F,G,H]\n",
        "#print(X)\n",
        "Y = [tA,tB,tC,tD,tE,tF,tG,tH]\n",
        "#print(Y)\n",
        "#W = np.matmul(np.transpose(np.expand_dims(A, axis = 0)),tA) #+ np.matmul(np.transpose(C),tC)\n",
        "#print(W)\n",
        "#print(np.transpose(W))\n",
        "#X.shape\n",
        "#Y.shape\n",
        "#A.shape\n",
        "pair = []\n",
        "for i in range (8):\n",
        "  pair.append([X[i], Y[i]])\n",
        "  \n",
        "pair[1]\n",
        "\n",
        "E1 = np.asarray(E)\n",
        "E1.shape"
      ],
      "execution_count": 101,
      "outputs": [
        {
          "output_type": "execute_result",
          "data": {
            "text/plain": [
              "(15,)"
            ]
          },
          "metadata": {
            "tags": []
          },
          "execution_count": 101
        }
      ]
    },
    {
      "metadata": {
        "id": "7HfV1sHQAE2X",
        "colab_type": "code",
        "colab": {
          "base_uri": "https://localhost:8080/",
          "height": 361
        },
        "outputId": "a017a8ba-34b1-4b9a-e83b-cacaf430f7ed"
      },
      "cell_type": "code",
      "source": [
        "import matplotlib.pyplot as plt\n",
        "\n",
        "fig, axes = plt.subplots(2, 4)\n",
        "plt.subplots_adjust(left=None, bottom=None, right=None, top=None, wspace=None, hspace=0.5)\n",
        "\n",
        "for i in range(4):\n",
        "  axes[0,i].imshow(np.reshape(X[i],[5,3]))\n",
        "  xlabel = Y[i]; axes[0,i].set_xlabel(xlabel)\n",
        "  axes[1,i].imshow(np.reshape(X[i+4],[5,3]))\n",
        "  xlabel = Y[i+4]; axes[1,i].set_xlabel(xlabel)\n",
        "\n"
      ],
      "execution_count": 72,
      "outputs": [
        {
          "output_type": "display_data",
          "data": {
            "image/png": "[encoded data removed]",
            "text/plain": [
              "<matplotlib.figure.Figure at 0x7ff82a0bbba8>"
            ]
          },
          "metadata": {
            "tags": []
          }
        }
      ]
    },
    {
      "metadata": {
        "id": "0x8N2JuO9rFF",
        "colab_type": "code",
        "outputId": "bdeb94fb-770f-43df-9617-c5c3cf5c590b",
        "colab": {
          "base_uri": "https://localhost:8080/",
          "height": 269
        }
      },
      "cell_type": "code",
      "source": [
        "def BAM1(X,Y):\n",
        "  X = np.asarray(X)\n",
        "  Y = np.asarray(Y)\n",
        "  n,m1 = X.shape\n",
        "  n,m2 = Y.shape\n",
        "  W=np.zeros([m1,m2])\n",
        "  for i in range(n):\n",
        "    W =W + np.matmul(np.transpose(np.asmatrix(X[i,:])),np.asmatrix(Y[i,:]))\n",
        "  \n",
        "  return W\n",
        "\n",
        "W = BAM1(X,Y)\n",
        "W\n"
      ],
      "execution_count": 102,
      "outputs": [
        {
          "output_type": "execute_result",
          "data": {
            "text/plain": [
              "matrix([[ 2., -2.,  6.],\n",
              "        [-2., -2., -2.],\n",
              "        [ 6.,  2., -2.],\n",
              "        [ 0.,  0.,  0.],\n",
              "        [ 0.,  0.,  0.],\n",
              "        [-4.,  0.,  4.],\n",
              "        [ 0.,  0.,  0.],\n",
              "        [ 2., -6.,  2.],\n",
              "        [ 0.,  4.,  0.],\n",
              "        [ 0.,  0.,  0.],\n",
              "        [ 0.,  0.,  0.],\n",
              "        [-2.,  2.,  2.],\n",
              "        [ 0., -4.,  4.],\n",
              "        [-2.,  2., -2.],\n",
              "        [ 2.,  2., -6.]])"
            ]
          },
          "metadata": {
            "tags": []
          },
          "execution_count": 102
        }
      ]
    },
    {
      "metadata": {
        "id": "ygrqjLACqSrD",
        "colab_type": "code",
        "outputId": "820f4623-1f26-4a21-cc0c-8554638c9caa",
        "colab": {
          "base_uri": "https://localhost:8080/",
          "height": 398
        }
      },
      "cell_type": "code",
      "source": [
        "def BAM2(W, IN, OUT = []):\n",
        "  IN = np.asarray(IN)\n",
        "  m,n = W.shape\n",
        "  if IN.shape == (m,):\n",
        "    W = W\n",
        "  elif IN.shape == (n,):\n",
        "    W = np.transpose(W)\n",
        "  m,n = W.shape\n",
        "  x = np.expand_dims(IN, axis = 0)\n",
        "    \n",
        "  if OUT == []:\n",
        "    y = np.sign(np.matmul(x,W)) \n",
        "  else:\n",
        "    y = np.asarray(OUT)\n",
        "    y = np.expand_dims(y, axis = 0)\n",
        "  #x_out = np.sign(np.matmul(y, np.transpose(W)))\n",
        "  x_in = np.matmul(y, np.transpose(W))\n",
        "  for i in range(m):\n",
        "    if x_in[0,i]>0:\n",
        "      x_in[0,i] = 1\n",
        "    elif x_in[0,i]<0:\n",
        "      x_in[0,i] = -1\n",
        "    elif x_in[0,i]==0:\n",
        "      x_in[0,i] = x[0,i]\n",
        "  x_out = x_in\n",
        "    \n",
        "  while np.max((x - x_out)) !=0 or np.min((x - x_out)) !=0:\n",
        "    x = x_out \n",
        "    y_in = np.matmul(x,W)\n",
        "    for i in range(n):\n",
        "      if y_in[0,i]>0:\n",
        "        y_in[0,i] = 1\n",
        "      elif y_in[0,i]<0:\n",
        "        y_in[0,i] = -1\n",
        "      elif y_in[0,i]==0:\n",
        "        y_in[0,i] = y[0,i]\n",
        "    y = y_in\n",
        "    \n",
        "    #y = np.sign(np.matmul(x,W))\n",
        "    x_in = np.matmul(y, np.transpose(W))\n",
        "    for i in range(m):\n",
        "      if x_in[0,i]>0:\n",
        "        x_in[0,i] = 1\n",
        "      elif x_in[0,i]<0:\n",
        "        x_in[0,i] = -1\n",
        "      elif x_in[0,i]==0:\n",
        "        x_in[0,i] = x[0,i]\n",
        "    x_out = x_in\n",
        "    #x_out = np.sign(np.matmul(y, np.transpose(W)))\n",
        "  return y, x\n",
        "\n",
        "y,x = BAM2(W, tF,F)\n",
        "print (y,x)\n",
        "print (tE)\n",
        "plt.imshow(np.reshape(y, [5,3]))"
      ],
      "execution_count": 103,
      "outputs": [
        {
          "output_type": "stream",
          "text": [
            "[[ 1  1  1  1 -1 -1  1  1 -1  1 -1 -1  1 -1 -1]] [[ 1 -1  1]]\n",
            "[1, -1, -1]\n"
          ],
          "name": "stdout"
        },
        {
          "output_type": "execute_result",
          "data": {
            "text/plain": [
              "<matplotlib.image.AxesImage at 0x7ff829816048>"
            ]
          },
          "metadata": {
            "tags": []
          },
          "execution_count": 103
        },
        {
          "output_type": "display_data",
          "data": {
            "image/png": "[encoded data removed]",
            "text/plain": [
              "<matplotlib.figure.Figure at 0x7ff829f6ce80>"
            ]
          },
          "metadata": {
            "tags": []
          }
        }
      ]
    },
    {
      "metadata": {
        "id": "hCQYsNJ-acTT",
        "colab_type": "code",
        "colab": {
          "base_uri": "https://localhost:8080/",
          "height": 101
        },
        "outputId": "c40b37fe-e548-4792-b9cf-f537e3714020"
      },
      "cell_type": "code",
      "source": [
        "E = np.asarray(E)\n",
        "print(E)\n",
        "E1 = np.expand_dims(E, axis = 0)\n",
        "t = np.matmul(E1,W)\n",
        "print(t)\n",
        "t1 = np.sign(t)\n",
        "print(t1)\n",
        "\n",
        "t2 = np.expand_dims(t1, axis = 0)\n",
        "E2 = np.matmul(t1,np.transpose(W))\n",
        "print(E2)\n",
        "E3 = np.sign(E2)\n",
        "print(E3)"
      ],
      "execution_count": 81,
      "outputs": [
        {
          "output_type": "stream",
          "text": [
            "[ 1  1  1  1 -1 -1  1  1 -1  1 -1 -1  1  1  1]\n",
            "[[ 14. -14.  -6.]]\n",
            "[[ 1. -1. -1.]]\n",
            "[[-2.  2.  6.  0.  0. -8.  0.  6. -4.  0.  0. -6.  0. -2.  6.]]\n",
            "[[-1.  1.  1.  0.  0. -1.  0.  1. -1.  0.  0. -1.  0. -1.  1.]]\n"
          ],
          "name": "stdout"
        }
      ]
    },
    {
      "metadata": {
        "id": "5AXOZXU3fpOx",
        "colab_type": "text"
      },
      "cell_type": "markdown",
      "source": [
        "#(a)"
      ]
    },
    {
      "metadata": {
        "id": "PnmGsvOywImq",
        "colab_type": "text"
      },
      "cell_type": "markdown",
      "source": [
        "###Test 1"
      ]
    },
    {
      "metadata": {
        "id": "C3Kod2C4foSC",
        "colab_type": "code",
        "colab": {
          "base_uri": "https://localhost:8080/",
          "height": 319
        },
        "outputId": "8651edc4-8b1e-497d-b2ac-58a8b8382c28"
      },
      "cell_type": "code",
      "source": [
        "TA = [-1, 1]\n",
        "TC = [1, 1]\n",
        "Wa = BAM1([A,C], [TA, TC])\n",
        "print(Wa)\n",
        "\n",
        "C1 = [-1, 0, 1, 1, -1, -1, 1, -1, -1, 1, -1, -1, -1, 1, 1]\n",
        "yc1,xc1 = BAM2(Wa, C1)\n",
        "print (yc1,xc1)\n",
        "print('A:', A )\n",
        "print('C:', C )"
      ],
      "execution_count": 114,
      "outputs": [
        {
          "output_type": "stream",
          "text": [
            "[[ 0. -2.]\n",
            " [ 0.  2.]\n",
            " [ 2.  0.]\n",
            " [ 0.  2.]\n",
            " [ 0. -2.]\n",
            " [-2.  0.]\n",
            " [ 0.  2.]\n",
            " [-2.  0.]\n",
            " [-2.  0.]\n",
            " [ 0.  2.]\n",
            " [ 0. -2.]\n",
            " [-2.  0.]\n",
            " [-2.  0.]\n",
            " [ 2.  0.]\n",
            " [ 0.  2.]]\n",
            "[[1. 1.]] [[-1.  1.  1.  1. -1. -1.  1. -1. -1.  1. -1. -1. -1.  1.  1.]]\n",
            "A: [-1, 1, -1, 1, -1, 1, 1, 1, 1, 1, -1, 1, 1, -1, 1]\n",
            "C: [-1, 1, 1, 1, -1, -1, 1, -1, -1, 1, -1, -1, -1, 1, 1]\n"
          ],
          "name": "stdout"
        }
      ]
    },
    {
      "metadata": {
        "id": "moiqG2I0wL7c",
        "colab_type": "text"
      },
      "cell_type": "markdown",
      "source": [
        "###Test 2"
      ]
    },
    {
      "metadata": {
        "id": "VOeMsBGxmar8",
        "colab_type": "code",
        "colab": {
          "base_uri": "https://localhost:8080/",
          "height": 50
        },
        "outputId": "c727848c-609b-449d-95d0-988d259aa004"
      },
      "cell_type": "code",
      "source": [
        "yc2,xc2 = BAM2(Wa, [1,0])\n",
        "print (yc2,xc2)\n",
        "print('C:', C )"
      ],
      "execution_count": 116,
      "outputs": [
        {
          "output_type": "stream",
          "text": [
            "[[ 0.  0.  1.  0.  0. -1.  0. -1. -1.  0.  0. -1. -1.  1.  0.]] [[1 0]]\n",
            "C: [-1, 1, 1, 1, -1, -1, 1, -1, -1, 1, -1, -1, -1, 1, 1]\n"
          ],
          "name": "stdout"
        }
      ]
    },
    {
      "metadata": {
        "id": "RL-qYLZNwNjR",
        "colab_type": "text"
      },
      "cell_type": "markdown",
      "source": [
        "###Test 3"
      ]
    },
    {
      "metadata": {
        "id": "NABCjYgml8he",
        "colab_type": "code",
        "colab": {
          "base_uri": "https://localhost:8080/",
          "height": 50
        },
        "outputId": "57548861-7644-4f93-d216-475418c4fced"
      },
      "cell_type": "code",
      "source": [
        "yc3,xc3 = BAM2(Wa, [1,0], C1)\n",
        "print (yc3,xc3)\n",
        "print('C:', C )"
      ],
      "execution_count": 117,
      "outputs": [
        {
          "output_type": "stream",
          "text": [
            "[[-1.  1.  1.  1. -1. -1.  1. -1. -1.  1. -1. -1. -1.  1.  1.]] [[1. 1.]]\n",
            "C: [-1, 1, 1, 1, -1, -1, 1, -1, -1, 1, -1, -1, -1, 1, 1]\n"
          ],
          "name": "stdout"
        }
      ]
    },
    {
      "metadata": {
        "id": "-RhhuYr9wO3i",
        "colab_type": "text"
      },
      "cell_type": "markdown",
      "source": [
        "###Test 4"
      ]
    },
    {
      "metadata": {
        "id": "x0VVTfLMsA7_",
        "colab_type": "code",
        "colab": {
          "base_uri": "https://localhost:8080/",
          "height": 67
        },
        "outputId": "f1527751-2ded-478a-fa28-6dfc822ce35e"
      },
      "cell_type": "code",
      "source": [
        "C2 = [0, 0, 1, 1, 0, 0, 0, 0, 0, 0, 0, 0, 0, 1, 0]\n",
        "yc4,xc4 = BAM2(Wa, C2)\n",
        "print (yc4,xc4)\n",
        "print('C:', C )\n",
        "print('A:', A )"
      ],
      "execution_count": 133,
      "outputs": [
        {
          "output_type": "stream",
          "text": [
            "[[1. 1.]] [[-1.  1.  1.  1. -1. -1.  1. -1. -1.  1. -1. -1. -1.  1.  1.]]\n",
            "C: [-1, 1, 1, 1, -1, -1, 1, -1, -1, 1, -1, -1, -1, 1, 1]\n",
            "A: [-1, 1, -1, 1, -1, 1, 1, 1, 1, 1, -1, 1, 1, -1, 1]\n"
          ],
          "name": "stdout"
        }
      ]
    },
    {
      "metadata": {
        "id": "ovisQ5HCwQTa",
        "colab_type": "text"
      },
      "cell_type": "markdown",
      "source": [
        "###Test 5"
      ]
    },
    {
      "metadata": {
        "id": "1V8jDBTVustv",
        "colab_type": "code",
        "colab": {
          "base_uri": "https://localhost:8080/",
          "height": 67
        },
        "outputId": "ce54c6ea-ad56-4ffa-b9b5-37da91c5d9e5"
      },
      "cell_type": "code",
      "source": [
        "C2 = [0, 0, 1, 1, 0, 0, 0, 0, 0, 0, 0, 0, 0, 1, 0]\n",
        "yc4,xc4 = BAM2(Wa, [1,0], C2)\n",
        "print (yc4,xc4)\n",
        "print('C:', C )\n",
        "print('A:', A )"
      ],
      "execution_count": 134,
      "outputs": [
        {
          "output_type": "stream",
          "text": [
            "[[-1.  1.  1.  1. -1. -1.  1. -1. -1.  1. -1. -1. -1.  1.  1.]] [[1. 1.]]\n",
            "C: [-1, 1, 1, 1, -1, -1, 1, -1, -1, 1, -1, -1, -1, 1, 1]\n",
            "A: [-1, 1, -1, 1, -1, 1, 1, 1, 1, 1, -1, 1, 1, -1, 1]\n"
          ],
          "name": "stdout"
        }
      ]
    },
    {
      "metadata": {
        "id": "yRDZS_5awnu4",
        "colab_type": "text"
      },
      "cell_type": "markdown",
      "source": [
        "#(b)"
      ]
    },
    {
      "metadata": {
        "id": "w7ibgRJQwnSr",
        "colab_type": "code",
        "colab": {
          "base_uri": "https://localhost:8080/",
          "height": 34
        },
        "outputId": "46dbeffc-506a-446b-de68-d9e1fc3bbcf0"
      },
      "cell_type": "code",
      "source": [
        "np.transpose(np.asarray(A))*np.asarray(C)"
      ],
      "execution_count": 148,
      "outputs": [
        {
          "output_type": "execute_result",
          "data": {
            "text/plain": [
              "array([ 1,  1, -1,  1,  1, -1,  1, -1, -1,  1,  1, -1, -1, -1,  1])"
            ]
          },
          "metadata": {
            "tags": []
          },
          "execution_count": 148
        }
      ]
    }
  ]
}