{
  "nbformat": 4,
  "nbformat_minor": 0,
  "metadata": {
    "colab": {
      "name": "BAM2.ipynb",
      "version": "0.3.2",
      "provenance": [],
      "include_colab_link": true
    },
    "kernelspec": {
      "name": "python3",
      "display_name": "Python 3"
    }
  },
  "cells": [
    {
      "cell_type": "markdown",
      "metadata": {
        "id": "view-in-github",
        "colab_type": "text"
      },
      "source": [
        "<a href=\"https://colab.research.google.com/github/puraminy/mini_proj2/blob/master/BAM2.ipynb\" target=\"_parent\"><img src=\"https://colab.research.google.com/assets/colab-badge.svg\" alt=\"Open In Colab\"/></a>"
      ]
    },
    {
      "metadata": {
        "id": "R3isu1LjX8KG",
        "colab_type": "text"
      },
      "cell_type": "markdown",
      "source": [
        "##Data"
      ]
    },
    {
      "metadata": {
        "id": "XzXKYUoknJbO",
        "colab_type": "code",
        "colab": {}
      },
      "cell_type": "code",
      "source": [
        "import numpy as np\n",
        "\n",
        "A = [-1, 1, -1, 1, -1, 1, 1, 1, 1, 1, -1, 1, 1, -1, 1]\n",
        "tA = [-1, -1,-1] #tA = np.asmatrix([-1, 1]\n",
        "B = [1, 1, -1, 1, -1, 1, 1, 1, -1, 1, -1, 1, 1, 1, -1]\n",
        "tB = [-1, -1, 1]\n",
        "C = [-1, 1, 1, 1, -1, -1, 1, -1, -1, 1, -1, -1, -1, 1, 1]\n",
        "tC = [-1,1,-1] #tC = np.asmatrix([1, 1])\n",
        "D = [1, 1, -1, 1, -1, 1, 1, -1, 1, 1, -1, 1, 1, 1, -1]\n",
        "tD = [-1,1,1]\n",
        "E = [1, 1, 1, 1, -1, -1, 1, 1, -1, 1, -1, -1, 1, 1, 1]\n",
        "tE = [1,-1,-1]\n",
        "F =[1, 1, 1, 1, -1, -1, 1, 1, -1, 1, -1, -1, 1, -1, -1]\n",
        "tF = [1, -1, 1]\n",
        "G = [-1, 1, 1, 1, -1, -1, 1, -1, 1, 1, -1, 1, -1, 1, 1]\n",
        "tG = [1, 1, -1]\n",
        "H = [1, -1, 1, 1, -1, 1, 1, 1, 1, 1, -1, 1, 1, -1, 1]\n",
        "tH = [1, 1, 1]\n",
        "\n",
        "X =[A,B,C,D,E,F,G,H]\n",
        "Y = [tA,tB,tC,tD,tE,tF,tG,tH]"
      ],
      "execution_count": 0,
      "outputs": []
    },
    {
      "metadata": {
        "id": "7HfV1sHQAE2X",
        "colab_type": "code",
        "outputId": "145d43e2-9db9-47e2-bc36-bf30b00acbdc",
        "colab": {
          "base_uri": "https://localhost:8080/",
          "height": 361
        }
      },
      "cell_type": "code",
      "source": [
        "import matplotlib.pyplot as plt\n",
        "\n",
        "fig, axes = plt.subplots(2, 4)\n",
        "plt.subplots_adjust(left=None, bottom=None, right=None, top=None, wspace=None, hspace=0.5)\n",
        "\n",
        "for i in range(4):\n",
        "  axes[0,i].imshow(np.reshape(X[i],[5,3]))\n",
        "  xlabel = Y[i]; axes[0,i].set_xlabel(xlabel)\n",
        "  axes[1,i].imshow(np.reshape(X[i+4],[5,3]))\n",
        "  xlabel = Y[i+4]; axes[1,i].set_xlabel(xlabel)\n",
        "\n"
      ],
      "execution_count": 0,
      "outputs": [
        {
          "output_type": "display_data",
          "data": {
            "image/png": "[encoded data removed]",
            "text/plain": [
              "<matplotlib.figure.Figure at 0x7f08b77a7940>"
            ]
          },
          "metadata": {
            "tags": []
          }
        }
      ]
    },
    {
      "metadata": {
        "id": "A5QIxnH2XyZB",
        "colab_type": "text"
      },
      "cell_type": "markdown",
      "source": [
        "##BAM Weight"
      ]
    },
    {
      "metadata": {
        "id": "0x8N2JuO9rFF",
        "colab_type": "code",
        "outputId": "dd2151ec-b1e6-47c9-ff88-e5b81e5a4498",
        "colab": {
          "base_uri": "https://localhost:8080/",
          "height": 269
        }
      },
      "cell_type": "code",
      "source": [
        "def BAM1(X,Y):\n",
        "  X = np.asarray(X)\n",
        "  Y = np.asarray(Y)\n",
        "  n,m1 = X.shape\n",
        "  n,m2 = Y.shape\n",
        "  W=np.zeros([m1,m2])\n",
        "  for i in range(n):\n",
        "    W =W + np.matmul(np.transpose(np.asmatrix(X[i,:])),np.asmatrix(Y[i,:]))\n",
        "  \n",
        "  return W\n",
        "\n",
        "W = BAM1(X,Y)\n",
        "W\n"
      ],
      "execution_count": 0,
      "outputs": [
        {
          "output_type": "execute_result",
          "data": {
            "text/plain": [
              "matrix([[ 2., -2.,  6.],\n",
              "        [-2., -2., -2.],\n",
              "        [ 6.,  2., -2.],\n",
              "        [ 0.,  0.,  0.],\n",
              "        [ 0.,  0.,  0.],\n",
              "        [-4.,  0.,  4.],\n",
              "        [ 0.,  0.,  0.],\n",
              "        [ 2., -6.,  2.],\n",
              "        [ 0.,  4.,  0.],\n",
              "        [ 0.,  0.,  0.],\n",
              "        [ 0.,  0.,  0.],\n",
              "        [-2.,  2.,  2.],\n",
              "        [ 0., -4.,  4.],\n",
              "        [-2.,  2., -2.],\n",
              "        [ 2.,  2., -6.]])"
            ]
          },
          "metadata": {
            "tags": []
          },
          "execution_count": 23
        }
      ]
    },
    {
      "metadata": {
        "id": "GSoI6XwzXssH",
        "colab_type": "text"
      },
      "cell_type": "markdown",
      "source": [
        "##BAM Net"
      ]
    },
    {
      "metadata": {
        "id": "ygrqjLACqSrD",
        "colab_type": "code",
        "outputId": "e98fd867-3861-48a2-8d33-9488cd2f4785",
        "colab": {
          "base_uri": "https://localhost:8080/",
          "height": 50
        }
      },
      "cell_type": "code",
      "source": [
        "def BAM2(W, IN, OUT = []):\n",
        "  IN = np.asarray(IN)\n",
        "  m,n = W.shape\n",
        "  if IN.shape == (m,):\n",
        "    W = W\n",
        "  elif IN.shape == (n,):\n",
        "    W = np.transpose(W)\n",
        "  m,n = W.shape\n",
        "  x = np.expand_dims(IN, axis = 0)\n",
        "    \n",
        "  if OUT == []:\n",
        "    y = np.sign(np.matmul(x,W)) \n",
        "  else:\n",
        "    y = np.asarray(OUT)\n",
        "    y = np.expand_dims(y, axis = 0)\n",
        "  #x_out = np.sign(np.matmul(y, np.transpose(W)))\n",
        "  x_in = np.matmul(y, np.transpose(W))\n",
        "  for i in range(m):\n",
        "    if x_in[0,i]>0:\n",
        "      x_in[0,i] = 1\n",
        "    elif x_in[0,i]<0:\n",
        "      x_in[0,i] = -1\n",
        "    elif x_in[0,i]==0:\n",
        "      x_in[0,i] = x[0,i]\n",
        "  x_out = x_in\n",
        "    \n",
        "  while np.max((x - x_out)) !=0 or np.min((x - x_out)) !=0:\n",
        "    x = x_out \n",
        "    y_in = np.matmul(x,W)\n",
        "    for i in range(n):\n",
        "      if y_in[0,i]>0:\n",
        "        y_in[0,i] = 1\n",
        "      elif y_in[0,i]<0:\n",
        "        y_in[0,i] = -1\n",
        "      elif y_in[0,i]==0:\n",
        "        y_in[0,i] = y[0,i]\n",
        "    y = y_in\n",
        "    \n",
        "    #y = np.sign(np.matmul(x,W))\n",
        "    x_in = np.matmul(y, np.transpose(W))\n",
        "    for i in range(m):\n",
        "      if x_in[0,i]>0:\n",
        "        x_in[0,i] = 1\n",
        "      elif x_in[0,i]<0:\n",
        "        x_in[0,i] = -1\n",
        "      elif x_in[0,i]==0:\n",
        "        x_in[0,i] = x[0,i]\n",
        "    x_out = x_in\n",
        "    #x_out = np.sign(np.matmul(y, np.transpose(W)))\n",
        "  return y, x\n",
        "\n",
        "y,x = BAM2(W, H)\n",
        "print (y,x)\n",
        "print (tH)\n",
        "#plt.imshow(np.reshape(y, [5,3]))"
      ],
      "execution_count": 0,
      "outputs": [
        {
          "output_type": "stream",
          "text": [
            "[[ 1. -1.  1.]] [[ 1. -1.  1.  1. -1.  1.  1.  1. -1.  1. -1. -1.  1. -1. -1.]]\n",
            "[1, 1, 1]\n"
          ],
          "name": "stdout"
        }
      ]
    },
    {
      "metadata": {
        "id": "F4-HNGraN9la",
        "colab_type": "text"
      },
      "cell_type": "markdown",
      "source": [
        "##Hamming (X-layer)"
      ]
    },
    {
      "metadata": {
        "id": "lxMCYnQ8gRbY",
        "colab_type": "code",
        "outputId": "b6c2dfe6-f683-45d0-8c91-631e185cfff2",
        "colab": {
          "base_uri": "https://localhost:8080/",
          "height": 432
        }
      },
      "cell_type": "code",
      "source": [
        "import matplotlib.pyplot as plt\n",
        "import scipy.spatial.distance as dis\n",
        "\n",
        "hammX = np.zeros((len(X),len(X)))\n",
        "for i in range(len(X)):\n",
        "  for j in range(len(X)):\n",
        "    hammX[i,j] = dis.hamming(X[i],X[j])\n",
        "    \n",
        "# Visualizing of Hamming Distance\n",
        "import seaborn as sn\n",
        "import pandas  as pd\n",
        "\n",
        "df_hammX = pd.DataFrame(hammX, range(len(X)),\n",
        "                  range(len(X)))\n",
        "axlabels = ['A', 'B', 'C', 'D', 'E', 'F', 'G', 'H']\n",
        "\n",
        "plt.figure(figsize = (10,7))\n",
        "sn.set(font_scale=1.4)#for label size\n",
        "sn.heatmap(df_hammX, annot=True,annot_kws={\"size\": 12}, xticklabels=axlabels, yticklabels=axlabels)# font size\n",
        "plt.show()"
      ],
      "execution_count": 0,
      "outputs": [
        {
          "output_type": "display_data",
          "data": {
            "image/png": "[encoded data removed]",
            "text/plain": [
              "<matplotlib.figure.Figure at 0x7f829a5e4b00>"
            ]
          },
          "metadata": {
            "tags": []
          }
        }
      ]
    },
    {
      "metadata": {
        "id": "SPcmFK4TH4RU",
        "colab_type": "text"
      },
      "cell_type": "markdown",
      "source": [
        "##Hamming (Y-layer)"
      ]
    },
    {
      "metadata": {
        "id": "jNE2PKS9HyGS",
        "colab_type": "code",
        "outputId": "9d20c40e-fd79-4766-ecb2-a0870c24c399",
        "colab": {
          "base_uri": "https://localhost:8080/",
          "height": 438
        }
      },
      "cell_type": "code",
      "source": [
        "import matplotlib.pyplot as plt\n",
        "import scipy.spatial.distance as dis\n",
        "\n",
        "hammY = np.zeros((len(Y),len(Y)))\n",
        "for i in range(len(Y)):\n",
        "  for j in range(len(Y)):\n",
        "    hammY[i,j] = dis.hamming(Y[i], Y[j])\n",
        "    \n",
        "# Visualizing of Hamming Distance\n",
        "import seaborn as sn\n",
        "import pandas  as pd\n",
        "\n",
        "df_hammY = pd.DataFrame(hammY, range(len(Y)),\n",
        "                  range(len(X)))\n",
        "axlabels = ['A', 'B', 'C', 'D', 'E', 'F', 'G', 'H']\n",
        "\n",
        "plt.figure(figsize = (10,7))\n",
        "sn.set(font_scale=1.4)#for label size\n",
        "sn.heatmap(df_hammY, annot=True,annot_kws={\"size\": 12}, xticklabels=axlabels, yticklabels=axlabels)# font size\n",
        "plt.show()"
      ],
      "execution_count": 0,
      "outputs": [
        {
          "output_type": "display_data",
          "data": {
            "image/png": "[encoded data removed]",
            "text/plain": [
              "<matplotlib.figure.Figure at 0x7f8296986c88>"
            ]
          },
          "metadata": {
            "tags": []
          }
        }
      ]
    },
    {
      "metadata": {
        "id": "aD2iAdFVW5zU",
        "colab_type": "text"
      },
      "cell_type": "markdown",
      "source": [
        "##Test data generation with noise"
      ]
    },
    {
      "metadata": {
        "id": "_GjLsDn2wZ6z",
        "colab_type": "code",
        "outputId": "103c7786-1d88-49d7-a26b-a94d5cfbc309",
        "colab": {
          "base_uri": "https://localhost:8080/",
          "height": 118
        }
      },
      "cell_type": "code",
      "source": [
        "import random\n",
        "def test_noise (inp, te_n, n_n): #inp:input vector te_n: number of noisy samples for test. n_n: number of noisy elements\n",
        "  test = []\n",
        "  for i in range(te_n):\n",
        "    rnd = random.sample(range(len(inp)), n_n)\n",
        "    noise = np.asarray(inp)\n",
        "    for i in rnd:\n",
        "      noise[i] = 0\n",
        "    test.append(noise)\n",
        "    \n",
        "  test=np.asarray(test)\n",
        "  test = np.unique(test,axis=0)\n",
        " \n",
        "  return test\n",
        "print(A)\n",
        "t=test_noise(A, 5, 2)\n",
        "print(t)\n"
      ],
      "execution_count": 0,
      "outputs": [
        {
          "output_type": "stream",
          "text": [
            "[-1, 1, -1, 1, -1, 1, 1, 1, 1, 1, -1, 1, 1, -1, 1]\n",
            "[[-1  1 -1  1 -1  1  0  1  1  1 -1  1  1  0  1]\n",
            " [-1  1 -1  1 -1  1  0  1  1  1  0  1  1 -1  1]\n",
            " [-1  1 -1  1 -1  1  1  0  1  1 -1  1  1 -1  0]\n",
            " [-1  1 -1  1 -1  1  1  1  1  0  0  1  1 -1  1]\n",
            " [-1  1 -1  1 -1  1  1  1  1  1  0  1  1  0  1]]\n"
          ],
          "name": "stdout"
        }
      ]
    },
    {
      "metadata": {
        "id": "5AXOZXU3fpOx",
        "colab_type": "text"
      },
      "cell_type": "markdown",
      "source": [
        "#(a)"
      ]
    },
    {
      "metadata": {
        "id": "PnmGsvOywImq",
        "colab_type": "text"
      },
      "cell_type": "markdown",
      "source": [
        "###Test 1"
      ]
    },
    {
      "metadata": {
        "id": "C3Kod2C4foSC",
        "colab_type": "code",
        "outputId": "8651edc4-8b1e-497d-b2ac-58a8b8382c28",
        "colab": {
          "base_uri": "https://localhost:8080/",
          "height": 319
        }
      },
      "cell_type": "code",
      "source": [
        "TA = [-1, 1]\n",
        "TC = [1, 1]\n",
        "Wa = BAM1([A,C], [TA, TC])\n",
        "print(Wa)\n",
        "\n",
        "C1 = [-1, 0, 1, 1, -1, -1, 1, -1, -1, 1, -1, -1, -1, 1, 1]\n",
        "yc1,xc1 = BAM2(Wa, C1)\n",
        "print (yc1,xc1)\n",
        "print('A:', A )\n",
        "print('C:', C )"
      ],
      "execution_count": 0,
      "outputs": [
        {
          "output_type": "stream",
          "text": [
            "[[ 0. -2.]\n",
            " [ 0.  2.]\n",
            " [ 2.  0.]\n",
            " [ 0.  2.]\n",
            " [ 0. -2.]\n",
            " [-2.  0.]\n",
            " [ 0.  2.]\n",
            " [-2.  0.]\n",
            " [-2.  0.]\n",
            " [ 0.  2.]\n",
            " [ 0. -2.]\n",
            " [-2.  0.]\n",
            " [-2.  0.]\n",
            " [ 2.  0.]\n",
            " [ 0.  2.]]\n",
            "[[1. 1.]] [[-1.  1.  1.  1. -1. -1.  1. -1. -1.  1. -1. -1. -1.  1.  1.]]\n",
            "A: [-1, 1, -1, 1, -1, 1, 1, 1, 1, 1, -1, 1, 1, -1, 1]\n",
            "C: [-1, 1, 1, 1, -1, -1, 1, -1, -1, 1, -1, -1, -1, 1, 1]\n"
          ],
          "name": "stdout"
        }
      ]
    },
    {
      "metadata": {
        "id": "moiqG2I0wL7c",
        "colab_type": "text"
      },
      "cell_type": "markdown",
      "source": [
        "###Test 2"
      ]
    },
    {
      "metadata": {
        "id": "VOeMsBGxmar8",
        "colab_type": "code",
        "outputId": "c727848c-609b-449d-95d0-988d259aa004",
        "colab": {
          "base_uri": "https://localhost:8080/",
          "height": 50
        }
      },
      "cell_type": "code",
      "source": [
        "yc2,xc2 = BAM2(Wa, [1,0])\n",
        "print (yc2,xc2)\n",
        "print('C:', C )"
      ],
      "execution_count": 0,
      "outputs": [
        {
          "output_type": "stream",
          "text": [
            "[[ 0.  0.  1.  0.  0. -1.  0. -1. -1.  0.  0. -1. -1.  1.  0.]] [[1 0]]\n",
            "C: [-1, 1, 1, 1, -1, -1, 1, -1, -1, 1, -1, -1, -1, 1, 1]\n"
          ],
          "name": "stdout"
        }
      ]
    },
    {
      "metadata": {
        "id": "RL-qYLZNwNjR",
        "colab_type": "text"
      },
      "cell_type": "markdown",
      "source": [
        "###Test 3"
      ]
    },
    {
      "metadata": {
        "id": "NABCjYgml8he",
        "colab_type": "code",
        "outputId": "57548861-7644-4f93-d216-475418c4fced",
        "colab": {
          "base_uri": "https://localhost:8080/",
          "height": 50
        }
      },
      "cell_type": "code",
      "source": [
        "yc3,xc3 = BAM2(Wa, [1,0], C1)\n",
        "print (yc3,xc3)\n",
        "print('C:', C )"
      ],
      "execution_count": 0,
      "outputs": [
        {
          "output_type": "stream",
          "text": [
            "[[-1.  1.  1.  1. -1. -1.  1. -1. -1.  1. -1. -1. -1.  1.  1.]] [[1. 1.]]\n",
            "C: [-1, 1, 1, 1, -1, -1, 1, -1, -1, 1, -1, -1, -1, 1, 1]\n"
          ],
          "name": "stdout"
        }
      ]
    },
    {
      "metadata": {
        "id": "-RhhuYr9wO3i",
        "colab_type": "text"
      },
      "cell_type": "markdown",
      "source": [
        "###Test 4"
      ]
    },
    {
      "metadata": {
        "id": "x0VVTfLMsA7_",
        "colab_type": "code",
        "outputId": "f1527751-2ded-478a-fa28-6dfc822ce35e",
        "colab": {
          "base_uri": "https://localhost:8080/",
          "height": 67
        }
      },
      "cell_type": "code",
      "source": [
        "C2 = [0, 0, 1, 1, 0, 0, 0, 0, 0, 0, 0, 0, 0, 1, 0]\n",
        "yc4,xc4 = BAM2(Wa, C2)\n",
        "print (yc4,xc4)\n",
        "print('C:', C )\n",
        "print('A:', A )"
      ],
      "execution_count": 0,
      "outputs": [
        {
          "output_type": "stream",
          "text": [
            "[[1. 1.]] [[-1.  1.  1.  1. -1. -1.  1. -1. -1.  1. -1. -1. -1.  1.  1.]]\n",
            "C: [-1, 1, 1, 1, -1, -1, 1, -1, -1, 1, -1, -1, -1, 1, 1]\n",
            "A: [-1, 1, -1, 1, -1, 1, 1, 1, 1, 1, -1, 1, 1, -1, 1]\n"
          ],
          "name": "stdout"
        }
      ]
    },
    {
      "metadata": {
        "id": "ovisQ5HCwQTa",
        "colab_type": "text"
      },
      "cell_type": "markdown",
      "source": [
        "###Test 5"
      ]
    },
    {
      "metadata": {
        "id": "1V8jDBTVustv",
        "colab_type": "code",
        "outputId": "ce54c6ea-ad56-4ffa-b9b5-37da91c5d9e5",
        "colab": {
          "base_uri": "https://localhost:8080/",
          "height": 67
        }
      },
      "cell_type": "code",
      "source": [
        "C2 = [0, 0, 1, 1, 0, 0, 0, 0, 0, 0, 0, 0, 0, 1, 0]\n",
        "yc4,xc4 = BAM2(Wa, [1,0], C2)\n",
        "print (yc4,xc4)\n",
        "print('C:', C )\n",
        "print('A:', A )"
      ],
      "execution_count": 0,
      "outputs": [
        {
          "output_type": "stream",
          "text": [
            "[[-1.  1.  1.  1. -1. -1.  1. -1. -1.  1. -1. -1. -1.  1.  1.]] [[1. 1.]]\n",
            "C: [-1, 1, 1, 1, -1, -1, 1, -1, -1, 1, -1, -1, -1, 1, 1]\n",
            "A: [-1, 1, -1, 1, -1, 1, 1, 1, 1, 1, -1, 1, 1, -1, 1]\n"
          ],
          "name": "stdout"
        }
      ]
    },
    {
      "metadata": {
        "id": "yRDZS_5awnu4",
        "colab_type": "text"
      },
      "cell_type": "markdown",
      "source": [
        "#(b)"
      ]
    },
    {
      "metadata": {
        "id": "w7ibgRJQwnSr",
        "colab_type": "code",
        "outputId": "a6a05d9f-9126-4d90-d0c2-a9f3c92e5d19",
        "colab": {
          "base_uri": "https://localhost:8080/",
          "height": 118
        }
      },
      "cell_type": "code",
      "source": [
        "WAB=BAM1([A,B], [tA,tB])\n",
        "print('WAB:',-np.sum(np.abs(WAB)))\n",
        "WAC=BAM1([A,C], [tA,tC])\n",
        "print('WAC:',-np.sum(np.abs(WAC)))\n",
        "WAD=BAM1([A,D], [tA,tD])\n",
        "print('WAD:',-np.sum(np.abs(WAD)))\n",
        "WAE=BAM1([A,E], [tA,tE])\n",
        "print('WAE:',-np.sum(np.abs(WAE)))\n",
        "\n",
        "print('Wa:',-np.sum(np.abs(Wa)))\n",
        "print('W:',-np.sum(np.abs(W)))"
      ],
      "execution_count": 0,
      "outputs": [
        {
          "output_type": "stream",
          "text": [
            "WAB: -52.0\n",
            "WAC: -46.0\n",
            "WAD: -38.0\n",
            "WAE: -48.0\n",
            "Wa: -30.0\n",
            "W: -78.0\n"
          ],
          "name": "stdout"
        }
      ]
    },
    {
      "metadata": {
        "id": "BY1znab1DTbl",
        "colab_type": "text"
      },
      "cell_type": "markdown",
      "source": [
        "##Part III (Low Noise)"
      ]
    },
    {
      "metadata": {
        "id": "1yzdZ4QAXdpH",
        "colab_type": "code",
        "colab": {}
      },
      "cell_type": "code",
      "source": [
        ""
      ],
      "execution_count": 0,
      "outputs": []
    },
    {
      "metadata": {
        "id": "4NgA_4tHX7gu",
        "colab_type": "code",
        "outputId": "b2dc8531-79cd-4310-d29e-b76086d677e6",
        "colab": {
          "base_uri": "https://localhost:8080/",
          "height": 286
        }
      },
      "cell_type": "code",
      "source": [
        "W3 = BAM1([A,D,F,G],[tA,tD,tF,tG])\n",
        "print(W3)\n",
        "[x3A, y3A] = BAM2(W3,G)\n",
        "print(x3A, y3A)"
      ],
      "execution_count": 0,
      "outputs": [
        {
          "output_type": "stream",
          "text": [
            "[[ 0.  0.  4.]\n",
            " [ 0.  0.  0.]\n",
            " [ 4.  0.  0.]\n",
            " [ 0.  0.  0.]\n",
            " [ 0.  0.  0.]\n",
            " [-4.  0.  0.]\n",
            " [ 0.  0.  0.]\n",
            " [ 0. -4.  0.]\n",
            " [-2.  2. -2.]\n",
            " [ 0.  0.  0.]\n",
            " [ 0.  0.  0.]\n",
            " [-2.  2. -2.]\n",
            " [-2. -2.  2.]\n",
            " [ 0.  4.  0.]\n",
            " [ 0.  0. -4.]]\n",
            "[[ 1.  1. -1.]] [[-1  1  1  1 -1 -1  1 -1  1  1 -1  1 -1  1  1]]\n"
          ],
          "name": "stdout"
        }
      ]
    },
    {
      "metadata": {
        "id": "DHo3fV0D1PEx",
        "colab_type": "code",
        "outputId": "1f47953d-e000-4cdd-b8dc-298bbb6f408b",
        "colab": {
          "base_uri": "https://localhost:8080/",
          "height": 168
        }
      },
      "cell_type": "code",
      "source": [
        "W4 = BAM1([C,D,E,H],[tC,tD,tE,tH])\n",
        "yd4,xd4 = BAM2(W4,D, tD)\n",
        "print (yd4,xd4)\n",
        "print('D:', D )\n",
        "print('tD:', tD )\n",
        "ye4,xe4 = BAM2(W4,E, tE)\n",
        "print (ye4,xe4)\n",
        "print('E:', E )\n",
        "print('tE:', tE )\n",
        "yf4,xf4 = BAM2(W4,F, tF)\n",
        "print (yf4,xf4)\n",
        "print('F:', F )\n",
        "print('tF:', tF )"
      ],
      "execution_count": 0,
      "outputs": [
        {
          "output_type": "stream",
          "text": [
            "[[-1  1  1]] [[ 1  1 -1  1 -1  1  1 -1  1  1 -1  1  1  1 -1]]\n",
            "D: [1, 1, -1, 1, -1, 1, 1, -1, 1, 1, -1, 1, 1, 1, -1]\n",
            "tD: [-1, 1, 1]\n",
            "[[ 1. -1. -1.]] [[ 1.  1.  1. -1.  1. -1. -1.  1. -1. -1.  1. -1.  1.  1.  1.]]\n",
            "E: [1, 1, 1, 1, -1, -1, 1, 1, -1, 1, -1, -1, 1, 1, 1]\n",
            "tE: [1, -1, -1]\n",
            "[[ 1. -1.  1.]] [[ 1. -1.  1. -1.  1.  1. -1.  1.  1. -1.  1.  1.  1. -1. -1.]]\n",
            "F: [1, 1, 1, 1, -1, -1, 1, 1, -1, 1, -1, -1, 1, -1, -1]\n",
            "tF: [1, -1, 1]\n"
          ],
          "name": "stdout"
        }
      ]
    },
    {
      "metadata": {
        "id": "QJ28KmW09WxD",
        "colab_type": "code",
        "outputId": "48e83186-651f-44c7-c80b-0e96113166d1",
        "colab": {
          "base_uri": "https://localhost:8080/",
          "height": 34
        }
      },
      "cell_type": "code",
      "source": [
        "teA10=test_noise (A, 70, 2)\n",
        "teA10.shape"
      ],
      "execution_count": 0,
      "outputs": [
        {
          "output_type": "execute_result",
          "data": {
            "text/plain": [
              "(53, 15)"
            ]
          },
          "metadata": {
            "tags": []
          },
          "execution_count": 22
        }
      ]
    },
    {
      "metadata": {
        "id": "ajQRqo3_94li",
        "colab_type": "text"
      },
      "cell_type": "markdown",
      "source": [
        "##Accuracy"
      ]
    },
    {
      "metadata": {
        "id": "OyW5J278_Lzu",
        "colab_type": "code",
        "outputId": "2efcff6e-3678-45ff-afa5-f714314f608e",
        "colab": {
          "base_uri": "https://localhost:8080/",
          "height": 34
        }
      },
      "cell_type": "code",
      "source": [
        "#x,y=BAM2(W,teA10[i,:])\n",
        "import scipy.spatial.distance as dis\n",
        "\n",
        "teB10=test_noise (B, 70, 2)\n",
        "\n",
        "def accuracy(test, t, W): #test matrix, t: output, W: Weight\n",
        "  j=0\n",
        "  n=len(test[:,0])\n",
        "  for i in range(n):\n",
        "    x,y=BAM2(W,test[i,:])\n",
        "    if dis.hamming(x, t)==0:\n",
        "      j=j+1\n",
        "  acc=j/n\n",
        "  return acc\n",
        "\n",
        "accuracy(teB10, tB, W)"
      ],
      "execution_count": 0,
      "outputs": [
        {
          "output_type": "execute_result",
          "data": {
            "text/plain": [
              "1.0"
            ]
          },
          "metadata": {
            "tags": []
          },
          "execution_count": 65
        }
      ]
    },
    {
      "metadata": {
        "id": "NyBdElb7DDZR",
        "colab_type": "text"
      },
      "cell_type": "markdown",
      "source": [
        "##Test and Evaluate on 100 noisy patterns for every target pattern"
      ]
    },
    {
      "metadata": {
        "id": "NK_Iir0PBMxO",
        "colab_type": "code",
        "outputId": "fdc43b5d-859a-4625-a974-4c719bfa50e2",
        "colab": {
          "base_uri": "https://localhost:8080/",
          "height": 50
        }
      },
      "cell_type": "code",
      "source": [
        "test=[]\n",
        "acc=[]\n",
        "for i in range(8):\n",
        "  test.append(test_noise (X[i], 100, 2))\n",
        "  acc.append(accuracy(test[i], Y[i], W))\n",
        "  \n",
        "print(np.mean(acc))\n",
        "print(acc)"
      ],
      "execution_count": 0,
      "outputs": [
        {
          "output_type": "stream",
          "text": [
            "0.2431344696969697\n",
            "[0.6875, 1.0, 0.0, 0.25757575757575757, 0.0, 0.0, 0.0, 0.0]\n"
          ],
          "name": "stdout"
        }
      ]
    },
    {
      "metadata": {
        "colab_type": "text",
        "id": "SP2Y5RkUDWFb"
      },
      "cell_type": "markdown",
      "source": [
        "##Test and Evaluate on 100 noisy patterns for every target pattern"
      ]
    },
    {
      "metadata": {
        "id": "iHsTLuL2Dqvg",
        "colab_type": "code",
        "outputId": "ac7ef8c8-17ec-4895-a14f-5bac59f61aeb",
        "colab": {
          "base_uri": "https://localhost:8080/",
          "height": 70
        }
      },
      "cell_type": "code",
      "source": [
        "test=[]\n",
        "acc=[]\n",
        "for i in range(8):\n",
        "  test.append(test_noise (X[i], 100, 5))\n",
        "  acc.append(accuracy(test[i], Y[i], W))\n",
        "  \n",
        "print(np.mean(acc))\n",
        "print(acc)"
      ],
      "execution_count": 0,
      "outputs": [
        {
          "output_type": "stream",
          "text": [
            "0.2607325809111523\n",
            "[0.5151515151515151, 1.0, 0.0, 0.49, 0.01020408163265306, 0.02, 0.0, 0.050505050505050504]\n"
          ],
          "name": "stdout"
        }
      ]
    },
    {
      "metadata": {
        "id": "8yc1QiekF-8d",
        "colab_type": "text"
      },
      "cell_type": "markdown",
      "source": [
        "##Part V"
      ]
    },
    {
      "metadata": {
        "id": "uZ4bOq-OGCHe",
        "colab_type": "code",
        "outputId": "8e7cf052-2908-4b6d-9c13-57dc1c8cbf1c",
        "colab": {
          "base_uri": "https://localhost:8080/",
          "height": 50
        }
      },
      "cell_type": "code",
      "source": [
        "Yv = [tC,tE]\n",
        "Wv = BAM1([C,E],Yv)\n",
        "\n",
        "test=[]\n",
        "acc=[]\n",
        "for i in range(len(Yv)):\n",
        "  test.append(test_noise (X[i], 100, 1))\n",
        "  acc.append(accuracy(test[i], Yv[i], Wv))\n",
        "  \n",
        "print(np.mean(acc))\n",
        "print(acc)"
      ],
      "execution_count": 0,
      "outputs": [
        {
          "output_type": "stream",
          "text": [
            "0.0\n",
            "[0.0, 0.0]\n"
          ],
          "name": "stdout"
        }
      ]
    }
  ]
}