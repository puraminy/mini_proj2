{
  "nbformat": 4,
  "nbformat_minor": 0,
  "metadata": {
    "colab": {
      "name": "BAM2.ipynb",
      "version": "0.3.2",
      "provenance": [],
      "include_colab_link": true
    },
    "kernelspec": {
      "name": "python3",
      "display_name": "Python 3"
    }
  },
  "cells": [
    {
      "cell_type": "markdown",
      "metadata": {
        "id": "view-in-github",
        "colab_type": "text"
      },
      "source": [
        "<a href=\"https://colab.research.google.com/github/puraminy/mini_proj2/blob/master/BAM2.ipynb\" target=\"_parent\"><img src=\"https://colab.research.google.com/assets/colab-badge.svg\" alt=\"Open In Colab\"/></a>"
      ]
    },
    {
      "metadata": {
        "id": "XzXKYUoknJbO",
        "colab_type": "code",
        "outputId": "5067c7d5-bc05-4bcb-eb6f-6cdf54de77da",
        "colab": {
          "base_uri": "https://localhost:8080/",
          "height": 34
        }
      },
      "cell_type": "code",
      "source": [
        "import numpy as np\n",
        "\n",
        "A = [-1, 1, -1, 1, -1, 1, 1, 1, 1, 1, -1, 1, 1, -1, 1]\n",
        "tA = [-1, -1,-1] #tA = np.asmatrix([-1, 1]\n",
        "B = [1, 1, -1, 1, -1, 1, 1, 1, -1, 1, -1, 1, 1, 1, -1]\n",
        "tB = [-1, -1, 1]\n",
        "C = [-1, 1, 1, 1, -1, -1, 1, -1, -1, 1, -1, -1, -1, 1, 1]\n",
        "tC = [-1,1,-1] #tC = np.asmatrix([1, 1])\n",
        "D = [1, 1, -1, 1, -1, 1, 1, -1, 1, 1, -1, 1, 1, 1, -1]\n",
        "tD = [-1,1,1]\n",
        "E = [1, 1, 1, 1, -1, -1, 1, 1, -1, 1, -1, -1, 1, 1, 1]\n",
        "tE = [1,-1,-1]\n",
        "F =[1, 1, 1, 1, -1, -1, 1, 1, -1, 1, -1, -1, 1, -1, -1]\n",
        "tF = [1, -1, 1]\n",
        "G = [-1, 1, 1, 1, -1, -1, 1, -1, 1, 1, -1, 1, -1, 1, 1]\n",
        "tG = [1, 1, -1]\n",
        "H = [1, -1, 1, 1, -1, 1, 1, 1, 1, 1, -1, 1, 1, -1, 1]\n",
        "tH = [1, 1, 1]\n",
        "\n",
        "X =[A,B,C,D,E,F,G,H]\n",
        "#print(X)\n",
        "Y = [tA,tB,tC,tD,tE,tF,tG,tH]\n",
        "#print(Y)\n",
        "#W = np.matmul(np.transpose(np.expand_dims(A, axis = 0)),tA) #+ np.matmul(np.transpose(C),tC)\n",
        "#print(W)\n",
        "#print(np.transpose(W))\n",
        "#X.shape\n",
        "#Y.shape\n",
        "#A.shape\n",
        "pair = []\n",
        "for i in range (8):\n",
        "  pair.append([X[i], Y[i]])\n",
        "  \n",
        "pair[1]\n"
      ],
      "execution_count": 4,
      "outputs": [
        {
          "output_type": "execute_result",
          "data": {
            "text/plain": [
              "[[1, 1, -1, 1, -1, 1, 1, 1, -1, 1, -1, 1, 1, 1, -1], [-1, -1, 1]]"
            ]
          },
          "metadata": {
            "tags": []
          },
          "execution_count": 4
        }
      ]
    },
    {
      "metadata": {
        "id": "8a9t_qigzSAl",
        "colab_type": "code",
        "outputId": "fc177760-7f2e-4901-da59-a4a537b8ec47",
        "colab": {
          "base_uri": "https://localhost:8080/",
          "height": 67
        }
      },
      "cell_type": "code",
      "source": [
        "IN = np.asarray(A)\n",
        "x = np.expand_dims(IN, axis = 0)\n",
        "y = np.sign(np.matmul(x,W)) \n",
        "x_out = np.sign(np.matmul(y, np.transpose(W)))\n",
        "#x_out[0,2]=3\n",
        "print (x)\n",
        "print (x_out)\n",
        "np.max((x - x_out)) !=0 or np.min((x - x_out)) !=0"
      ],
      "execution_count": 0,
      "outputs": [
        {
          "output_type": "stream",
          "text": [
            "[[-1  1 -1  1 -1  1  1  1  1  1 -1  1  1 -1  1]]\n",
            "[[ 1.  1. -1.  0.  0.  1.  0.  1. -1.  0.  0.  1.  1. -1. -1.]]\n"
          ],
          "name": "stdout"
        },
        {
          "output_type": "execute_result",
          "data": {
            "text/plain": [
              "True"
            ]
          },
          "metadata": {
            "tags": []
          },
          "execution_count": 162
        }
      ]
    },
    {
      "metadata": {
        "id": "0x8N2JuO9rFF",
        "colab_type": "code",
        "outputId": "d84e0312-1cbc-4d59-e838-c73dddd998a9",
        "colab": {
          "base_uri": "https://localhost:8080/",
          "height": 269
        }
      },
      "cell_type": "code",
      "source": [
        "def BAM1(X,Y):\n",
        "  X = np.asarray(X)\n",
        "  Y = np.asarray(Y)\n",
        "  n,m1 = X.shape\n",
        "  n,m2 = Y.shape\n",
        "  W=np.zeros([m1,m2])\n",
        "  for i in range(n):\n",
        "    W =W + np.matmul(np.transpose(np.asmatrix(X[i,:])),np.asmatrix(Y[i,:]))\n",
        "  \n",
        "  return W\n",
        "\n",
        "W = BAM1(X,Y)\n",
        "W\n"
      ],
      "execution_count": 5,
      "outputs": [
        {
          "output_type": "execute_result",
          "data": {
            "text/plain": [
              "matrix([[ 2., -2.,  6.],\n",
              "        [-2., -2., -2.],\n",
              "        [ 6.,  2., -2.],\n",
              "        [ 0.,  0.,  0.],\n",
              "        [ 0.,  0.,  0.],\n",
              "        [-4.,  0.,  4.],\n",
              "        [ 0.,  0.,  0.],\n",
              "        [ 2., -6.,  2.],\n",
              "        [ 0.,  4.,  0.],\n",
              "        [ 0.,  0.,  0.],\n",
              "        [ 0.,  0.,  0.],\n",
              "        [-2.,  2.,  2.],\n",
              "        [ 0., -4.,  4.],\n",
              "        [-2.,  2., -2.],\n",
              "        [ 2.,  2., -6.]])"
            ]
          },
          "metadata": {
            "tags": []
          },
          "execution_count": 5
        }
      ]
    },
    {
      "metadata": {
        "id": "ygrqjLACqSrD",
        "colab_type": "code",
        "outputId": "d1b15084-db21-433e-a293-b266ff157a44",
        "colab": {
          "base_uri": "https://localhost:8080/",
          "height": 34
        }
      },
      "cell_type": "code",
      "source": [
        "def BAM2(W, IN, OUT = []):\n",
        "  IN = np.asarray(IN)\n",
        "  m,n = W.shape\n",
        "  if IN.shape == (m,):\n",
        "    W = W\n",
        "  elif IN.shape == (n,):\n",
        "    W = np.transpose(W)\n",
        "  m,n = W.shape\n",
        "  x = np.expand_dims(IN, axis = 0)\n",
        "    \n",
        "  if OUT == []:\n",
        "    y = np.sign(np.matmul(x,W)) \n",
        "  else:\n",
        "    y = np.asarray(OUT)\n",
        "    y = np.expand_dims(y, axis = 0)\n",
        "  #x_out = np.sign(np.matmul(y, np.transpose(W)))\n",
        "  x_in = np.matmul(y, np.transpose(W))\n",
        "  for i in range(m):\n",
        "    if x_in[0,i]>0:\n",
        "      x_in[0,i] = 1\n",
        "    elif x_in[0,i]<0:\n",
        "      x_in[0,i] = -1\n",
        "    elif x_in[0,i]==0:\n",
        "      x_in[0,i] = x[0,i]\n",
        "  x_out = x_in\n",
        "    \n",
        "  while np.max((x - x_out)) !=0 or np.min((x - x_out)) !=0:\n",
        "    x = x_out \n",
        "    y_in = np.matmul(x,W)\n",
        "    for i in range(n):\n",
        "      if y_in[0,i]>0:\n",
        "        y_in[0,i] = 1\n",
        "      elif y_in[0,i]<0:\n",
        "        y_in[0,i] = -1\n",
        "      elif y_in[0,i]==0:\n",
        "        y_in[0,i] = y[0,i]\n",
        "    y = y_in\n",
        "    \n",
        "    #y = np.sign(np.matmul(x,W))\n",
        "    x_in = np.matmul(y, np.transpose(W))\n",
        "    for i in range(m):\n",
        "      if x_in[0,i]>0:\n",
        "        x_in[0,i] = 1\n",
        "      elif x_in[0,i]<0:\n",
        "        x_in[0,i] = -1\n",
        "      elif x_in[0,i]==0:\n",
        "        x_in[0,i] = x[0,i]\n",
        "    x_out = x_in\n",
        "    #x_out = np.sign(np.matmul(y, np.transpose(W)))\n",
        "  return y, x\n",
        "\n",
        "y,x = BAM2(W, tE,E)\n",
        "print (y,x)"
      ],
      "execution_count": 16,
      "outputs": [
        {
          "output_type": "stream",
          "text": [
            "[[ 1  1  1  1 -1 -1  1  1 -1  1 -1 -1  1  1  1]] [[ 1 -1 -1]]\n"
          ],
          "name": "stdout"
        }
      ]
    }
  ]
}